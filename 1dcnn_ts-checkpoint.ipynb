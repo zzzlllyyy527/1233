{
 "cells": [
  {
   "cell_type": "code",
   "execution_count": 1,
   "metadata": {},
   "outputs": [],
   "source": [
    "import torch\n",
    "import torch.nn as nn\n",
    "import torch.optim as optim\n",
    "import torch.nn.functional as F\n",
    "from torch.utils.data import Dataset,DataLoader\n",
    "from torchsummary import summary\n",
    "\n",
    "import numpy as np\n",
    "import pandas as pd\n",
    "import re\n",
    "import glob\n",
    "import os \n",
    "import sys\n",
    "import matplotlib.pyplot as plt\n",
    "from tqdm import tqdm\n",
    "\n",
    "device =torch.device(\"cuda:0\" if torch.cuda.is_available() else \"cpu\")# 'cuda:0'"
   ]
  },
  {
   "cell_type": "code",
   "execution_count": 2,
   "metadata": {},
   "outputs": [],
   "source": [
    "# build the dataset\n",
    "class MyDataset(Dataset):\n",
    "    def __init__(self,root_dir):\n",
    "        self.root_dir=root_dir\n",
    "        \n",
    "        self.filenames=sorted(glob.glob(os.path.abspath(\"{root}/*.csv\".format(root=root_dir))))\n",
    "        self.waveforms=self.getwaveforms(self.filenames)\n",
    "        \n",
    "    def getwaveforms(self,files):\n",
    "        files_num=len(files)\n",
    "        waveforms=[]\n",
    "        print(\"building the dataset...\")\n",
    "        for i in tqdm(range(files_num)):\n",
    "            waveforms.append(torch.tensor([pd.read_csv(files[i]).iloc[:,0].values]).to(torch.float32))\n",
    "        #waveforms=torch.tensor(waveforms).to(torch.float32)\n",
    "        return waveforms\n",
    "    \n",
    "    def __len__(self):\n",
    "        return len(self.filenames)\n",
    "    \n",
    "    def __getitem__(self,idx):\n",
    "        label=re.findall(r\"\\\\\\d+-\",self.filenames[idx])#re.findall(r\"/\\d+-\",self.filenames[idx])\n",
    "        return self.waveforms[idx],int(label[0][1:-1])"
   ]
  },
  {
   "cell_type": "code",
   "execution_count": 3,
   "metadata": {},
   "outputs": [
    {
     "name": "stdout",
     "output_type": "stream",
     "text": [
      "building the dataset...\n"
     ]
    },
    {
     "name": "stderr",
     "output_type": "stream",
     "text": [
      "  0%|                                                                                          | 0/200 [00:00<?, ?it/s]C:\\Users\\dance\\AppData\\Local\\Temp\\ipykernel_17784\\3148609842.py:14: UserWarning: Creating a tensor from a list of numpy.ndarrays is extremely slow. Please consider converting the list to a single numpy.ndarray with numpy.array() before converting to a tensor. (Triggered internally at C:\\actions-runner\\_work\\pytorch\\pytorch\\builder\\windows\\pytorch\\torch\\csrc\\utils\\tensor_new.cpp:233.)\n",
      "  waveforms.append(torch.tensor([pd.read_csv(files[i]).iloc[:,0].values]).to(torch.float32))\n",
      "100%|███████████████████████████████████████████████████████████████████████████████| 200/200 [00:00<00:00, 558.57it/s]\n"
     ]
    }
   ],
   "source": [
    "dataset=MyDataset(\"F:/PycharmData/Jupyter notebook/ACS_AEM_Codes/datasets/number0-9_dataset\")\n",
    "#dataset=MyDataset(\"\"F:/PycharmData/CNN/Voicedata/num_data_all/石墨烯200\"\")\n",
    "dataset_len=len(dataset)\n",
    "trainset_len=int(0.6*dataset_len)\n",
    "#trainset,testset=torch.utils.data.random_split(dataset,[trainset_len,dataset_len-trainset_len])\n",
    "trainset, testset = torch.utils.data.random_split(dataset, [199, 1])\n",
    "def pad_sequence(batch):\n",
    "    batch=[item.t() for item in batch]\n",
    "    batch=torch.nn.utils.rnn.pad_sequence(batch,batch_first=True,padding_value=0.)\n",
    "    return batch.permute(0,2,1)\n",
    "\n",
    "def collate_fn(batch):\n",
    "    tensors,targets=[],[]\n",
    "    for waveform,label in batch:\n",
    "        tensors+=[waveform]\n",
    "        targets+=[torch.tensor(label)]\n",
    "    tensors=pad_sequence(tensors)\n",
    "    targets=torch.stack(targets)\n",
    "    return tensors,targets\n",
    "\n",
    "batch_size=64\n",
    "trainloader=DataLoader(trainset,batch_size=batch_size,shuffle=True,collate_fn=collate_fn)\n",
    "testloader=DataLoader(testset,batch_size=batch_size,shuffle=True,collate_fn=collate_fn)"
   ]
  },
  {
   "cell_type": "code",
   "execution_count": 4,
   "metadata": {},
   "outputs": [
    {
     "name": "stdout",
     "output_type": "stream",
     "text": [
      "M5(\n",
      "  (conv1): Conv1d(1, 32, kernel_size=(5,), stride=(1,))\n",
      "  (bn1): BatchNorm1d(32, eps=1e-05, momentum=0.1, affine=True, track_running_stats=True)\n",
      "  (pool1): MaxPool1d(kernel_size=4, stride=4, padding=0, dilation=1, ceil_mode=False)\n",
      "  (conv2): Conv1d(32, 32, kernel_size=(3,), stride=(1,))\n",
      "  (bn2): BatchNorm1d(32, eps=1e-05, momentum=0.1, affine=True, track_running_stats=True)\n",
      "  (pool2): MaxPool1d(kernel_size=4, stride=4, padding=0, dilation=1, ceil_mode=False)\n",
      "  (conv3): Conv1d(32, 64, kernel_size=(3,), stride=(1,))\n",
      "  (bn3): BatchNorm1d(64, eps=1e-05, momentum=0.1, affine=True, track_running_stats=True)\n",
      "  (pool3): MaxPool1d(kernel_size=4, stride=4, padding=0, dilation=1, ceil_mode=False)\n",
      "  (conv4): Conv1d(64, 64, kernel_size=(3,), stride=(1,))\n",
      "  (bn4): BatchNorm1d(64, eps=1e-05, momentum=0.1, affine=True, track_running_stats=True)\n",
      "  (pool4): MaxPool1d(kernel_size=4, stride=4, padding=0, dilation=1, ceil_mode=False)\n",
      "  (fc1): Linear(in_features=64, out_features=10, bias=True)\n",
      ")\n",
      "Number of parameters: 22890\n"
     ]
    }
   ],
   "source": [
    "# define the model\n",
    "class M5(nn.Module):\n",
    "    def __init__(self, n_input=1, n_output=35, stride=1, n_channel=32):\n",
    "        super().__init__()\n",
    "        self.conv1 = nn.Conv1d(n_input, n_channel, kernel_size=5, stride=stride)\n",
    "        self.bn1 = nn.BatchNorm1d(n_channel)\n",
    "        self.pool1 = nn.MaxPool1d(4)\n",
    "        self.conv2 = nn.Conv1d(n_channel, n_channel, kernel_size=3)\n",
    "        self.bn2 = nn.BatchNorm1d(n_channel)\n",
    "        self.pool2 = nn.MaxPool1d(4)\n",
    "        self.conv3 = nn.Conv1d(n_channel, 2 * n_channel, kernel_size=3)\n",
    "        self.bn3 = nn.BatchNorm1d(2 * n_channel)\n",
    "        self.pool3 = nn.MaxPool1d(4)\n",
    "        self.conv4 = nn.Conv1d(2 * n_channel, 2 * n_channel, kernel_size=3)\n",
    "        self.bn4 = nn.BatchNorm1d(2 * n_channel)\n",
    "        self.pool4 = nn.MaxPool1d(4)\n",
    "        self.fc1 = nn.Linear(2 * n_channel, n_output)\n",
    "\n",
    "    def forward(self, x):\n",
    "        x = self.conv1(x)\n",
    "        x = F.relu(self.bn1(x))\n",
    "        x = self.pool1(x)\n",
    "        x = self.conv2(x)\n",
    "        x = F.relu(self.bn2(x))\n",
    "        x = self.pool2(x)\n",
    "        x = self.conv3(x)\n",
    "        x = F.relu(self.bn3(x))\n",
    "        x = self.pool3(x)\n",
    "        x = self.conv4(x)\n",
    "        x = F.relu(self.bn4(x))\n",
    "        x = self.pool4(x)\n",
    "        x = F.avg_pool1d(x, x.shape[-1])\n",
    "        x = x.permute(0, 2, 1)\n",
    "        x = self.fc1(x)\n",
    "        return F.log_softmax(x, dim=2)\n",
    "\n",
    "model = M5(n_input=1, n_output=10)\n",
    "model=model.to(device)\n",
    "\n",
    "print(model)\n",
    "def count_parameters(model):\n",
    "    return sum(p.numel() for p in model.parameters() if p.requires_grad)\n",
    "\n",
    "n = count_parameters(model)\n",
    "print(\"Number of parameters: %s\" % n)"
   ]
  },
  {
   "cell_type": "code",
   "execution_count": 5,
   "metadata": {},
   "outputs": [],
   "source": [
    "# define the optimizer\n",
    "optimizer = optim.SGD(model.parameters(), lr=0.1, weight_decay=0.0001)\n",
    "scheduler = optim.lr_scheduler.StepLR(optimizer, step_size=20, gamma=0.1) "
   ]
  },
  {
   "cell_type": "code",
   "execution_count": 6,
   "metadata": {},
   "outputs": [],
   "source": [
    "def train(model,epoch,log_interval):\n",
    "    model.train()\n",
    "    for batch_idx, (data, target) in enumerate(trainloader):\n",
    "        data=data.to(device).to(torch.float32)\n",
    "        target=target.to(device)\n",
    "        output = model(data)\n",
    "        loss = F.nll_loss(output.squeeze(), target)\n",
    "\n",
    "        optimizer.zero_grad()\n",
    "        loss.backward()\n",
    "        optimizer.step()\n",
    "        \n",
    "        if batch_idx % log_interval == 0:\n",
    "            print(f\"Train Epoch: {epoch} [{batch_idx * len(data)}/{len(trainloader.dataset)} ({100. * batch_idx / len(trainloader):.0f}%)]\\tLoss: {loss.item():.6f}\")\n",
    "        losses.append(loss.item())"
   ]
  },
  {
   "cell_type": "code",
   "execution_count": 7,
   "metadata": {},
   "outputs": [],
   "source": [
    "def number_of_correct(pred, target):\n",
    "    # count number of correct predictions\n",
    "    return pred.squeeze().eq(target).sum().item()\n",
    "\n",
    "\n",
    "def get_likely_index(tensor):\n",
    "    # find most likely label index for each element in the batch\n",
    "    return tensor.argmax(dim=-1)\n",
    "\n",
    "\n",
    "def test(model, epoch):\n",
    "    model.eval()\n",
    "    correct = 0\n",
    "    for data, target in testloader:\n",
    "\n",
    "        data = data.to(torch.float32).to(device)\n",
    "        target=target.to(device)\n",
    "        # apply transform and model on whole batch directly on device\n",
    "        output = model(data)\n",
    "\n",
    "        pred = get_likely_index(output)\n",
    "        correct += number_of_correct(pred, target)   \n",
    "  \n",
    "\n",
    "    print(f\"\\nTest Epoch: {epoch}\\tAccuracy: {correct}/{len(testloader.dataset)} ({100. * correct / len(testloader.dataset):.0f}%)\\n\")\n",
    "    return correct/(len(testloader.dataset))"
   ]
  },
  {
   "cell_type": "code",
   "execution_count": 8,
   "metadata": {},
   "outputs": [
    {
     "name": "stderr",
     "output_type": "stream",
     "text": [
      "  1%|▊                                                                                 | 1/100 [00:02<04:06,  2.49s/it]"
     ]
    },
    {
     "name": "stdout",
     "output_type": "stream",
     "text": [
      "Train Epoch: 1 [0/200 (0%)]\tLoss: 2.396488\n",
      "\n",
      "Test Epoch: 1\tAccuracy: 21/200 (10%)\n",
      "\n",
      "Train Epoch: 2 [0/200 (0%)]\tLoss: 1.809816\n",
      "\n",
      "Test Epoch: 2\tAccuracy: 20/200 (10%)\n",
      "\n",
      "Train Epoch: 3 [0/200 (0%)]\tLoss: 1.496337\n",
      "\n",
      "Test Epoch: 3\tAccuracy: 29/200 (14%)\n",
      "\n"
     ]
    },
    {
     "name": "stderr",
     "output_type": "stream",
     "text": [
      "  5%|████                                                                              | 5/100 [00:02<00:35,  2.66it/s]"
     ]
    },
    {
     "name": "stdout",
     "output_type": "stream",
     "text": [
      "Train Epoch: 4 [0/200 (0%)]\tLoss: 1.282806\n",
      "\n",
      "Test Epoch: 4\tAccuracy: 28/200 (14%)\n",
      "\n",
      "Train Epoch: 5 [0/200 (0%)]\tLoss: 1.467821\n",
      "\n",
      "Test Epoch: 5\tAccuracy: 44/200 (22%)\n",
      "\n",
      "Train Epoch: 6 [0/200 (0%)]\tLoss: 1.422650\n"
     ]
    },
    {
     "name": "stderr",
     "output_type": "stream",
     "text": [
      "\r",
      "  7%|█████▋                                                                            | 7/100 [00:02<00:22,  4.05it/s]"
     ]
    },
    {
     "name": "stdout",
     "output_type": "stream",
     "text": [
      "\n",
      "Test Epoch: 6\tAccuracy: 116/200 (58%)\n",
      "\n",
      "Train Epoch: 7 [0/200 (0%)]\tLoss: 0.956196\n",
      "\n",
      "Test Epoch: 7\tAccuracy: 69/200 (34%)\n",
      "\n",
      "Train Epoch: 8 [0/200 (0%)]\tLoss: 0.957208\n",
      "\n",
      "Test Epoch: 8\tAccuracy: 149/200 (74%)\n",
      "\n",
      "Train Epoch: 9 [0/200 (0%)]\tLoss: 0.686101\n",
      "\n",
      "Test Epoch: 9\tAccuracy: 105/200 (52%)\n",
      "\n"
     ]
    },
    {
     "name": "stderr",
     "output_type": "stream",
     "text": [
      " 11%|████████▉                                                                        | 11/100 [00:03<00:12,  7.19it/s]"
     ]
    },
    {
     "name": "stdout",
     "output_type": "stream",
     "text": [
      "Train Epoch: 10 [0/200 (0%)]\tLoss: 0.870418\n",
      "\n",
      "Test Epoch: 10\tAccuracy: 159/200 (80%)\n",
      "\n",
      "Train Epoch: 11 [0/200 (0%)]\tLoss: 0.645593\n",
      "\n",
      "Test Epoch: 11\tAccuracy: 151/200 (76%)\n",
      "\n",
      "Train Epoch: 12 [0/200 (0%)]\tLoss: 0.589561\n",
      "\n",
      "Test Epoch: 12\tAccuracy: 101/200 (50%)\n",
      "\n",
      "Train Epoch: 13 [0/200 (0%)]\tLoss: 0.858113\n"
     ]
    },
    {
     "name": "stderr",
     "output_type": "stream",
     "text": [
      " 15%|████████████▏                                                                    | 15/100 [00:03<00:08, 10.15it/s]"
     ]
    },
    {
     "name": "stdout",
     "output_type": "stream",
     "text": [
      "\n",
      "Test Epoch: 13\tAccuracy: 161/200 (80%)\n",
      "\n",
      "Train Epoch: 14 [0/200 (0%)]\tLoss: 0.488219\n",
      "\n",
      "Test Epoch: 14\tAccuracy: 149/200 (74%)\n",
      "\n",
      "Train Epoch: 15 [0/200 (0%)]\tLoss: 0.276485\n",
      "\n",
      "Test Epoch: 15\tAccuracy: 195/200 (98%)\n",
      "\n",
      "Train Epoch: 16 [0/200 (0%)]\tLoss: 0.215125\n",
      "\n",
      "Test Epoch: 16\tAccuracy: 126/200 (63%)\n",
      "\n"
     ]
    },
    {
     "name": "stderr",
     "output_type": "stream",
     "text": [
      "\r",
      " 17%|█████████████▊                                                                   | 17/100 [00:03<00:07, 11.38it/s]"
     ]
    },
    {
     "name": "stdout",
     "output_type": "stream",
     "text": [
      "Train Epoch: 17 [0/200 (0%)]\tLoss: 0.286879\n",
      "\n",
      "Test Epoch: 17\tAccuracy: 174/200 (87%)\n",
      "\n",
      "Train Epoch: 18 [0/200 (0%)]\tLoss: 0.218418\n",
      "\n",
      "Test Epoch: 18\tAccuracy: 200/200 (100%)\n",
      "\n",
      "Train Epoch: 19 [0/200 (0%)]\tLoss: 0.125629\n",
      "\n",
      "Test Epoch: 19\tAccuracy: 188/200 (94%)\n",
      "\n"
     ]
    },
    {
     "name": "stderr",
     "output_type": "stream",
     "text": [
      " 21%|█████████████████                                                                | 21/100 [00:03<00:05, 13.19it/s]"
     ]
    },
    {
     "name": "stdout",
     "output_type": "stream",
     "text": [
      "Train Epoch: 20 [0/200 (0%)]\tLoss: 0.133399\n",
      "\n",
      "Test Epoch: 20\tAccuracy: 200/200 (100%)\n",
      "\n",
      "Train Epoch: 21 [0/200 (0%)]\tLoss: 0.101629\n",
      "\n",
      "Test Epoch: 21\tAccuracy: 200/200 (100%)\n",
      "\n",
      "Train Epoch: 22 [0/200 (0%)]\tLoss: 0.094813\n",
      "\n",
      "Test Epoch: 22\tAccuracy: 200/200 (100%)\n",
      "\n",
      "Train Epoch: 23 [0/200 (0%)]\tLoss: 0.082308\n"
     ]
    },
    {
     "name": "stderr",
     "output_type": "stream",
     "text": [
      " 25%|████████████████████▎                                                            | 25/100 [00:04<00:05, 14.04it/s]"
     ]
    },
    {
     "name": "stdout",
     "output_type": "stream",
     "text": [
      "\n",
      "Test Epoch: 23\tAccuracy: 200/200 (100%)\n",
      "\n",
      "Train Epoch: 24 [0/200 (0%)]\tLoss: 0.105009\n",
      "\n",
      "Test Epoch: 24\tAccuracy: 200/200 (100%)\n",
      "\n",
      "Train Epoch: 25 [0/200 (0%)]\tLoss: 0.094555\n",
      "\n",
      "Test Epoch: 25\tAccuracy: 200/200 (100%)\n",
      "\n",
      "Train Epoch: 26 [0/200 (0%)]\tLoss: 0.092031\n",
      "\n",
      "Test Epoch: 26\tAccuracy: 200/200 (100%)\n",
      "\n"
     ]
    },
    {
     "name": "stderr",
     "output_type": "stream",
     "text": [
      " 29%|███████████████████████▍                                                         | 29/100 [00:04<00:04, 14.76it/s]"
     ]
    },
    {
     "name": "stdout",
     "output_type": "stream",
     "text": [
      "Train Epoch: 27 [0/200 (0%)]\tLoss: 0.100181\n",
      "\n",
      "Test Epoch: 27\tAccuracy: 200/200 (100%)\n",
      "\n",
      "Train Epoch: 28 [0/200 (0%)]\tLoss: 0.092757\n",
      "\n",
      "Test Epoch: 28\tAccuracy: 200/200 (100%)\n",
      "\n",
      "Train Epoch: 29 [0/200 (0%)]\tLoss: 0.089445\n",
      "\n",
      "Test Epoch: 29\tAccuracy: 200/200 (100%)\n",
      "\n",
      "Train Epoch: 30 [0/200 (0%)]\tLoss: 0.093411\n"
     ]
    },
    {
     "name": "stderr",
     "output_type": "stream",
     "text": [
      "\r",
      " 31%|█████████████████████████                                                        | 31/100 [00:04<00:04, 15.05it/s]"
     ]
    },
    {
     "name": "stdout",
     "output_type": "stream",
     "text": [
      "\n",
      "Test Epoch: 30\tAccuracy: 200/200 (100%)\n",
      "\n",
      "Train Epoch: 31 [0/200 (0%)]\tLoss: 0.102982\n",
      "\n",
      "Test Epoch: 31\tAccuracy: 200/200 (100%)\n",
      "\n",
      "Train Epoch: 32 [0/200 (0%)]\tLoss: 0.102818\n",
      "\n",
      "Test Epoch: 32\tAccuracy: 200/200 (100%)\n",
      "\n",
      "Train Epoch: 33 [0/200 (0%)]\tLoss: 0.083683\n",
      "\n",
      "Test Epoch: 33\tAccuracy: 200/200 (100%)\n",
      "\n"
     ]
    },
    {
     "name": "stderr",
     "output_type": "stream",
     "text": [
      " 35%|████████████████████████████▎                                                    | 35/100 [00:04<00:04, 15.51it/s]"
     ]
    },
    {
     "name": "stdout",
     "output_type": "stream",
     "text": [
      "Train Epoch: 34 [0/200 (0%)]\tLoss: 0.090462\n",
      "\n",
      "Test Epoch: 34\tAccuracy: 200/200 (100%)\n",
      "\n",
      "Train Epoch: 35 [0/200 (0%)]\tLoss: 0.082281\n",
      "\n",
      "Test Epoch: 35\tAccuracy: 200/200 (100%)\n",
      "\n",
      "Train Epoch: 36 [0/200 (0%)]\tLoss: 0.103147\n",
      "\n",
      "Test Epoch: 36\tAccuracy: 200/200 (100%)\n",
      "\n",
      "Train Epoch: 37 [0/200 (0%)]\tLoss: 0.083922\n"
     ]
    },
    {
     "name": "stderr",
     "output_type": "stream",
     "text": [
      " 39%|███████████████████████████████▌                                                 | 39/100 [00:04<00:03, 15.57it/s]"
     ]
    },
    {
     "name": "stdout",
     "output_type": "stream",
     "text": [
      "\n",
      "Test Epoch: 37\tAccuracy: 200/200 (100%)\n",
      "\n",
      "Train Epoch: 38 [0/200 (0%)]\tLoss: 0.102573\n",
      "\n",
      "Test Epoch: 38\tAccuracy: 200/200 (100%)\n",
      "\n",
      "Train Epoch: 39 [0/200 (0%)]\tLoss: 0.078109\n",
      "\n",
      "Test Epoch: 39\tAccuracy: 200/200 (100%)\n",
      "\n",
      "Train Epoch: 40 [0/200 (0%)]\tLoss: 0.084076\n",
      "\n",
      "Test Epoch: 40\tAccuracy: 200/200 (100%)\n",
      "\n"
     ]
    },
    {
     "name": "stderr",
     "output_type": "stream",
     "text": [
      " 43%|██████████████████████████████████▊                                              | 43/100 [00:05<00:03, 15.76it/s]"
     ]
    },
    {
     "name": "stdout",
     "output_type": "stream",
     "text": [
      "Train Epoch: 41 [0/200 (0%)]\tLoss: 0.077563\n",
      "\n",
      "Test Epoch: 41\tAccuracy: 200/200 (100%)\n",
      "\n",
      "Train Epoch: 42 [0/200 (0%)]\tLoss: 0.071124\n",
      "\n",
      "Test Epoch: 42\tAccuracy: 200/200 (100%)\n",
      "\n",
      "Train Epoch: 43 [0/200 (0%)]\tLoss: 0.067166\n",
      "\n",
      "Test Epoch: 43\tAccuracy: 200/200 (100%)\n",
      "\n"
     ]
    },
    {
     "name": "stderr",
     "output_type": "stream",
     "text": [
      "\r",
      " 45%|████████████████████████████████████▍                                            | 45/100 [00:05<00:03, 15.73it/s]"
     ]
    },
    {
     "name": "stdout",
     "output_type": "stream",
     "text": [
      "Train Epoch: 44 [0/200 (0%)]\tLoss: 0.091709\n",
      "\n",
      "Test Epoch: 44\tAccuracy: 200/200 (100%)\n",
      "\n",
      "Train Epoch: 45 [0/200 (0%)]\tLoss: 0.083684\n",
      "\n",
      "Test Epoch: 45\tAccuracy: 200/200 (100%)\n",
      "\n",
      "Train Epoch: 46 [0/200 (0%)]\tLoss: 0.070531\n",
      "\n",
      "Test Epoch: 46\tAccuracy: 200/200 (100%)\n",
      "\n"
     ]
    },
    {
     "name": "stderr",
     "output_type": "stream",
     "text": [
      " 49%|███████████████████████████████████████▋                                         | 49/100 [00:05<00:03, 15.62it/s]"
     ]
    },
    {
     "name": "stdout",
     "output_type": "stream",
     "text": [
      "Train Epoch: 47 [0/200 (0%)]\tLoss: 0.076058\n",
      "\n",
      "Test Epoch: 47\tAccuracy: 200/200 (100%)\n",
      "\n",
      "Train Epoch: 48 [0/200 (0%)]\tLoss: 0.069947\n",
      "\n",
      "Test Epoch: 48\tAccuracy: 200/200 (100%)\n",
      "\n",
      "Train Epoch: 49 [0/200 (0%)]\tLoss: 0.078465\n",
      "\n",
      "Test Epoch: 49\tAccuracy: 200/200 (100%)\n",
      "\n",
      "Train Epoch: 50 [0/200 (0%)]\tLoss: 0.067992\n"
     ]
    },
    {
     "name": "stderr",
     "output_type": "stream",
     "text": [
      "\r",
      " 51%|█████████████████████████████████████████▎                                       | 51/100 [00:05<00:03, 15.49it/s]"
     ]
    },
    {
     "name": "stdout",
     "output_type": "stream",
     "text": [
      "\n",
      "Test Epoch: 50\tAccuracy: 200/200 (100%)\n",
      "\n",
      "Train Epoch: 51 [0/200 (0%)]\tLoss: 0.074484\n",
      "\n",
      "Test Epoch: 51\tAccuracy: 200/200 (100%)\n",
      "\n",
      "Train Epoch: 52 [0/200 (0%)]\tLoss: 0.071597\n",
      "\n",
      "Test Epoch: 52\tAccuracy: 200/200 (100%)\n",
      "\n",
      "Train Epoch: 53 [0/200 (0%)]\tLoss: 0.071937\n",
      "\n",
      "Test Epoch: 53\tAccuracy: 200/200 (100%)\n",
      "\n"
     ]
    },
    {
     "name": "stderr",
     "output_type": "stream",
     "text": [
      " 55%|████████████████████████████████████████████▌                                    | 55/100 [00:06<00:02, 15.50it/s]"
     ]
    },
    {
     "name": "stdout",
     "output_type": "stream",
     "text": [
      "Train Epoch: 54 [0/200 (0%)]\tLoss: 0.063021\n",
      "\n",
      "Test Epoch: 54\tAccuracy: 200/200 (100%)\n",
      "\n",
      "Train Epoch: 55 [0/200 (0%)]\tLoss: 0.079113\n",
      "\n",
      "Test Epoch: 55\tAccuracy: 200/200 (100%)\n",
      "\n",
      "Train Epoch: 56 [0/200 (0%)]\tLoss: 0.063119\n",
      "\n",
      "Test Epoch: 56\tAccuracy: 200/200 (100%)\n",
      "\n",
      "Train Epoch: 57 [0/200 (0%)]\tLoss: 0.060024\n"
     ]
    },
    {
     "name": "stderr",
     "output_type": "stream",
     "text": [
      " 59%|███████████████████████████████████████████████▊                                 | 59/100 [00:06<00:02, 15.51it/s]"
     ]
    },
    {
     "name": "stdout",
     "output_type": "stream",
     "text": [
      "\n",
      "Test Epoch: 57\tAccuracy: 200/200 (100%)\n",
      "\n",
      "Train Epoch: 58 [0/200 (0%)]\tLoss: 0.062277\n",
      "\n",
      "Test Epoch: 58\tAccuracy: 200/200 (100%)\n",
      "\n",
      "Train Epoch: 59 [0/200 (0%)]\tLoss: 0.106318\n",
      "\n",
      "Test Epoch: 59\tAccuracy: 200/200 (100%)\n",
      "\n",
      "Train Epoch: 60 [0/200 (0%)]\tLoss: 0.063772\n",
      "\n",
      "Test Epoch: 60\tAccuracy: 200/200 (100%)\n",
      "\n"
     ]
    },
    {
     "name": "stderr",
     "output_type": "stream",
     "text": [
      "\r",
      " 61%|█████████████████████████████████████████████████▍                               | 61/100 [00:06<00:02, 15.60it/s]"
     ]
    },
    {
     "name": "stdout",
     "output_type": "stream",
     "text": [
      "Train Epoch: 61 [0/200 (0%)]\tLoss: 0.069668\n",
      "\n",
      "Test Epoch: 61\tAccuracy: 200/200 (100%)\n",
      "\n",
      "Train Epoch: 62 [0/200 (0%)]\tLoss: 0.068848\n",
      "\n",
      "Test Epoch: 62\tAccuracy: 200/200 (100%)\n",
      "\n",
      "Train Epoch: 63 [0/200 (0%)]\tLoss: 0.080402\n",
      "\n",
      "Test Epoch: 63\tAccuracy: 200/200 (100%)\n",
      "\n"
     ]
    },
    {
     "name": "stderr",
     "output_type": "stream",
     "text": [
      " 65%|████████████████████████████████████████████████████▋                            | 65/100 [00:06<00:02, 14.97it/s]"
     ]
    },
    {
     "name": "stdout",
     "output_type": "stream",
     "text": [
      "Train Epoch: 64 [0/200 (0%)]\tLoss: 0.067089\n",
      "\n",
      "Test Epoch: 64\tAccuracy: 200/200 (100%)\n",
      "\n",
      "Train Epoch: 65 [0/200 (0%)]\tLoss: 0.085418\n",
      "\n",
      "Test Epoch: 65\tAccuracy: 200/200 (100%)\n",
      "\n",
      "Train Epoch: 66 [0/200 (0%)]\tLoss: 0.065857\n",
      "\n",
      "Test Epoch: 66\tAccuracy: 200/200 (100%)\n",
      "\n",
      "Train Epoch: 67 [0/200 (0%)]\tLoss: 0.073135\n"
     ]
    },
    {
     "name": "stderr",
     "output_type": "stream",
     "text": [
      " 69%|███████████████████████████████████████████████████████▉                         | 69/100 [00:06<00:02, 15.21it/s]"
     ]
    },
    {
     "name": "stdout",
     "output_type": "stream",
     "text": [
      "\n",
      "Test Epoch: 67\tAccuracy: 200/200 (100%)\n",
      "\n",
      "Train Epoch: 68 [0/200 (0%)]\tLoss: 0.074463\n",
      "\n",
      "Test Epoch: 68\tAccuracy: 200/200 (100%)\n",
      "\n",
      "Train Epoch: 69 [0/200 (0%)]\tLoss: 0.071355\n",
      "\n",
      "Test Epoch: 69\tAccuracy: 200/200 (100%)\n",
      "\n",
      "Train Epoch: 70 [0/200 (0%)]\tLoss: 0.081918\n",
      "\n",
      "Test Epoch: 70\tAccuracy: 200/200 (100%)\n",
      "\n"
     ]
    },
    {
     "name": "stderr",
     "output_type": "stream",
     "text": [
      " 73%|███████████████████████████████████████████████████████████▏                     | 73/100 [00:07<00:01, 15.48it/s]"
     ]
    },
    {
     "name": "stdout",
     "output_type": "stream",
     "text": [
      "Train Epoch: 71 [0/200 (0%)]\tLoss: 0.081144\n",
      "\n",
      "Test Epoch: 71\tAccuracy: 200/200 (100%)\n",
      "\n",
      "Train Epoch: 72 [0/200 (0%)]\tLoss: 0.071033\n",
      "\n",
      "Test Epoch: 72\tAccuracy: 200/200 (100%)\n",
      "\n",
      "Train Epoch: 73 [0/200 (0%)]\tLoss: 0.068296\n",
      "\n",
      "Test Epoch: 73\tAccuracy: 200/200 (100%)\n",
      "\n",
      "Train Epoch: 74 [0/200 (0%)]\tLoss: 0.071403\n"
     ]
    },
    {
     "name": "stderr",
     "output_type": "stream",
     "text": [
      "\r",
      " 75%|████████████████████████████████████████████████████████████▊                    | 75/100 [00:07<00:01, 15.54it/s]"
     ]
    },
    {
     "name": "stdout",
     "output_type": "stream",
     "text": [
      "\n",
      "Test Epoch: 74\tAccuracy: 200/200 (100%)\n",
      "\n",
      "Train Epoch: 75 [0/200 (0%)]\tLoss: 0.067554\n",
      "\n",
      "Test Epoch: 75\tAccuracy: 200/200 (100%)\n",
      "\n",
      "Train Epoch: 76 [0/200 (0%)]\tLoss: 0.068741\n",
      "\n",
      "Test Epoch: 76\tAccuracy: 200/200 (100%)\n",
      "\n",
      "Train Epoch: 77 [0/200 (0%)]\tLoss: 0.067875\n",
      "\n",
      "Test Epoch: 77\tAccuracy: 200/200 (100%)\n",
      "\n"
     ]
    },
    {
     "name": "stderr",
     "output_type": "stream",
     "text": [
      " 79%|███████████████████████████████████████████████████████████████▉                 | 79/100 [00:07<00:01, 15.49it/s]"
     ]
    },
    {
     "name": "stdout",
     "output_type": "stream",
     "text": [
      "Train Epoch: 78 [0/200 (0%)]\tLoss: 0.094720\n",
      "\n",
      "Test Epoch: 78\tAccuracy: 200/200 (100%)\n",
      "\n",
      "Train Epoch: 79 [0/200 (0%)]\tLoss: 0.067009\n",
      "\n",
      "Test Epoch: 79\tAccuracy: 200/200 (100%)\n",
      "\n",
      "Train Epoch: 80 [0/200 (0%)]\tLoss: 0.071205\n",
      "\n",
      "Test Epoch: 80\tAccuracy: 200/200 (100%)\n",
      "\n"
     ]
    },
    {
     "name": "stderr",
     "output_type": "stream",
     "text": [
      " 83%|███████████████████████████████████████████████████████████████████▏             | 83/100 [00:07<00:01, 15.45it/s]"
     ]
    },
    {
     "name": "stdout",
     "output_type": "stream",
     "text": [
      "Train Epoch: 81 [0/200 (0%)]\tLoss: 0.078013\n",
      "\n",
      "Test Epoch: 81\tAccuracy: 200/200 (100%)\n",
      "\n",
      "Train Epoch: 82 [0/200 (0%)]\tLoss: 0.080893\n",
      "\n",
      "Test Epoch: 82\tAccuracy: 200/200 (100%)\n",
      "\n",
      "Train Epoch: 83 [0/200 (0%)]\tLoss: 0.067131\n",
      "\n",
      "Test Epoch: 83\tAccuracy: 200/200 (100%)\n",
      "\n",
      "Train Epoch: 84 [0/200 (0%)]\tLoss: 0.082591\n"
     ]
    },
    {
     "name": "stderr",
     "output_type": "stream",
     "text": [
      "\r",
      " 85%|████████████████████████████████████████████████████████████████████▊            | 85/100 [00:07<00:00, 15.45it/s]"
     ]
    },
    {
     "name": "stdout",
     "output_type": "stream",
     "text": [
      "\n",
      "Test Epoch: 84\tAccuracy: 200/200 (100%)\n",
      "\n",
      "Train Epoch: 85 [0/200 (0%)]\tLoss: 0.070407\n",
      "\n",
      "Test Epoch: 85\tAccuracy: 200/200 (100%)\n",
      "\n",
      "Train Epoch: 86 [0/200 (0%)]\tLoss: 0.066685\n",
      "\n",
      "Test Epoch: 86\tAccuracy: 200/200 (100%)\n",
      "\n",
      "Train Epoch: 87 [0/200 (0%)]\tLoss: 0.067824\n",
      "\n",
      "Test Epoch: 87\tAccuracy: 200/200 (100%)\n",
      "\n"
     ]
    },
    {
     "name": "stderr",
     "output_type": "stream",
     "text": [
      " 89%|████████████████████████████████████████████████████████████████████████         | 89/100 [00:08<00:00, 15.54it/s]"
     ]
    },
    {
     "name": "stdout",
     "output_type": "stream",
     "text": [
      "Train Epoch: 88 [0/200 (0%)]\tLoss: 0.075453\n",
      "\n",
      "Test Epoch: 88\tAccuracy: 200/200 (100%)\n",
      "\n",
      "Train Epoch: 89 [0/200 (0%)]\tLoss: 0.082123\n",
      "\n",
      "Test Epoch: 89\tAccuracy: 200/200 (100%)\n",
      "\n",
      "Train Epoch: 90 [0/200 (0%)]\tLoss: 0.072934\n",
      "\n",
      "Test Epoch: 90\tAccuracy: 200/200 (100%)\n",
      "\n",
      "Train Epoch: 91 [0/200 (0%)]\tLoss: 0.085708\n"
     ]
    },
    {
     "name": "stderr",
     "output_type": "stream",
     "text": [
      " 93%|███████████████████████████████████████████████████████████████████████████▎     | 93/100 [00:08<00:00, 15.57it/s]"
     ]
    },
    {
     "name": "stdout",
     "output_type": "stream",
     "text": [
      "\n",
      "Test Epoch: 91\tAccuracy: 200/200 (100%)\n",
      "\n",
      "Train Epoch: 92 [0/200 (0%)]\tLoss: 0.073291\n",
      "\n",
      "Test Epoch: 92\tAccuracy: 200/200 (100%)\n",
      "\n",
      "Train Epoch: 93 [0/200 (0%)]\tLoss: 0.077883\n",
      "\n",
      "Test Epoch: 93\tAccuracy: 200/200 (100%)\n",
      "\n",
      "Train Epoch: 94 [0/200 (0%)]\tLoss: 0.081915\n",
      "\n",
      "Test Epoch: 94\tAccuracy: 200/200 (100%)\n",
      "\n"
     ]
    },
    {
     "name": "stderr",
     "output_type": "stream",
     "text": [
      "\r",
      " 95%|████████████████████████████████████████████████████████████████████████████▉    | 95/100 [00:08<00:00, 15.45it/s]"
     ]
    },
    {
     "name": "stdout",
     "output_type": "stream",
     "text": [
      "Train Epoch: 95 [0/200 (0%)]\tLoss: 0.084980\n",
      "\n",
      "Test Epoch: 95\tAccuracy: 200/200 (100%)\n",
      "\n",
      "Train Epoch: 96 [0/200 (0%)]\tLoss: 0.064679\n",
      "\n",
      "Test Epoch: 96\tAccuracy: 200/200 (100%)\n",
      "\n",
      "Train Epoch: 97 [0/200 (0%)]\tLoss: 0.081803\n",
      "\n",
      "Test Epoch: 97\tAccuracy: 200/200 (100%)\n",
      "\n"
     ]
    },
    {
     "name": "stderr",
     "output_type": "stream",
     "text": [
      " 99%|████████████████████████████████████████████████████████████████████████████████▏| 99/100 [00:08<00:00, 15.48it/s]"
     ]
    },
    {
     "name": "stdout",
     "output_type": "stream",
     "text": [
      "Train Epoch: 98 [0/200 (0%)]\tLoss: 0.072973\n",
      "\n",
      "Test Epoch: 98\tAccuracy: 200/200 (100%)\n",
      "\n",
      "Train Epoch: 99 [0/200 (0%)]\tLoss: 0.068092\n",
      "\n",
      "Test Epoch: 99\tAccuracy: 200/200 (100%)\n",
      "\n",
      "Train Epoch: 100 [0/200 (0%)]\tLoss: 0.072701\n",
      "\n",
      "Test Epoch: 100\tAccuracy: 200/200 (100%)\n",
      "\n"
     ]
    },
    {
     "name": "stderr",
     "output_type": "stream",
     "text": [
      "100%|████████████████████████████████████████████████████████████████████████████████| 100/100 [00:08<00:00, 11.19it/s]\n"
     ]
    }
   ],
   "source": [
    "log_interval = 20\n",
    "n_epoch = 100\n",
    "\n",
    "losses = []\n",
    "accuracy=[]\n",
    "\n",
    "\n",
    "for epoch in tqdm(range(1, n_epoch + 1)):\n",
    "    train(model, epoch, log_interval)\n",
    "    accuracy+=[test(model, epoch)]\n",
    "    #if accuracy[-1]>0.97:\n",
    "        #break\n",
    "    scheduler.step()"
   ]
  },
  {
   "cell_type": "code",
   "execution_count": 9,
   "metadata": {},
   "outputs": [
    {
     "name": "stdout",
     "output_type": "stream",
     "text": [
      "[2.3964877128601074, 2.2697527408599854, 1.9836490154266357, 1.8896912336349487, 1.8098160028457642, 1.7043012380599976, 1.6652148962020874, 1.4904873371124268, 1.4963372945785522, 1.378156304359436, 1.4177279472351074, 1.4085826873779297, 1.2828059196472168, 1.321802020072937, 1.1597611904144287, 2.060290813446045, 1.4678208827972412, 1.2167357206344604, 1.0867393016815186, 1.288825273513794, 1.4226495027542114, 1.0270026922225952, 1.1557632684707642, 0.9456732273101807, 0.9561961889266968, 0.875683605670929, 1.0095168352127075, 0.9702004790306091, 0.9572077393531799, 0.8201721906661987, 0.7804644703865051, 0.7183260321617126, 0.6861005425453186, 0.6823455095291138, 0.6549556851387024, 0.6745993494987488, 0.8704180121421814, 0.5617225766181946, 0.5497066378593445, 0.6292815804481506, 0.645592987537384, 0.49645939469337463, 0.4528919458389282, 0.609497606754303, 0.5895609855651855, 0.563553512096405, 0.5089631676673889, 0.632770299911499, 0.8581132888793945, 0.5184728503227234, 0.36222362518310547, 0.41046154499053955, 0.48821911215782166, 0.2969818413257599, 0.3288993239402771, 0.4030245542526245, 0.2764853537082672, 0.2584148943424225, 0.3851240277290344, 0.22124794125556946, 0.2151252180337906, 0.237647145986557, 0.24319805204868317, 0.43953579664230347, 0.286879301071167, 0.3438258469104767, 0.27592748403549194, 0.32891687750816345, 0.21841832995414734, 0.28748834133148193, 0.19700466096401215, 0.1518940031528473, 0.1256292164325714, 0.16146519780158997, 0.14208152890205383, 0.1909763664007187, 0.13339856266975403, 0.10643953830003738, 0.1090431660413742, 0.07596217095851898, 0.1016291081905365, 0.10825898498296738, 0.11569122225046158, 0.41338568925857544, 0.09481339901685715, 0.10534591227769852, 0.11771328002214432, 0.2575165033340454, 0.08230771124362946, 0.11236479878425598, 0.15431945025920868, 0.14530211687088013, 0.10500877350568771, 0.08089615404605865, 0.10300265997648239, 0.2876818776130676, 0.09455452114343643, 0.09476326406002045, 0.09086774289608002, 0.2581828236579895, 0.0920310989022255, 0.0858558937907219, 0.07706230133771896, 0.4122123420238495, 0.10018054395914078, 0.08808577805757523, 0.12062156945466995, 0.17663386464118958, 0.09275742620229721, 0.08563807606697083, 0.10139080137014389, 0.1308915615081787, 0.08944456279277802, 0.07719359546899796, 0.08888552337884903, 0.582643985748291, 0.0934111624956131, 0.08367148786783218, 0.08778823167085648, 0.6423194408416748, 0.10298240929841995, 0.08464982360601425, 0.09597435593605042, 0.5363940000534058, 0.10281842201948166, 0.11834578961133957, 0.08005797863006592, 0.22715222835540771, 0.08368324488401413, 0.1111413910984993, 0.09171970933675766, 0.2937697768211365, 0.0904620885848999, 0.07673194259405136, 0.07362678647041321, 0.33949899673461914, 0.0822807177901268, 0.08146651089191437, 0.08694110810756683, 0.12282287329435349, 0.10314678400754929, 0.06481222063302994, 0.08563623577356339, 0.08929736912250519, 0.08392173051834106, 0.0846502035856247, 0.07736468315124512, 0.17216956615447998, 0.1025727391242981, 0.09424297511577606, 0.08308516442775726, 0.24746070802211761, 0.07810867577791214, 0.07238322496414185, 0.08294375240802765, 0.08530398458242416, 0.08407624065876007, 0.07370759546756744, 0.08775337785482407, 0.10010814666748047, 0.07756292819976807, 0.08922265470027924, 0.07173387706279755, 0.15447326004505157, 0.07112365961074829, 0.07573558390140533, 0.07607167959213257, 0.15086162090301514, 0.06716644018888474, 0.08798015117645264, 0.08193895220756531, 0.18279987573623657, 0.09170853346586227, 0.08702009171247482, 0.06583964079618454, 0.1266579031944275, 0.08368394523859024, 0.0787978321313858, 0.06842323392629623, 0.2574639320373535, 0.070531465113163, 0.06643214076757431, 0.09217517077922821, 0.2174140214920044, 0.0760578066110611, 0.07432679086923599, 0.06928663700819016, 0.12302542477846146, 0.06994743645191193, 0.08329009264707565, 0.07164956629276276, 0.27246415615081787, 0.078465037047863, 0.09346980601549149, 0.07268927246332169, 0.12742048501968384, 0.06799167394638062, 0.07290080934762955, 0.07515709102153778, 0.23806585371494293, 0.07448434084653854, 0.07508505135774612, 0.07246018946170807, 0.12603941559791565, 0.07159730046987534, 0.0656752660870552, 0.08097537606954575, 0.2087402045726776, 0.07193657755851746, 0.07988156378269196, 0.0711919367313385, 0.1377500593662262, 0.0630207508802414, 0.07256680727005005, 0.0775422602891922, 0.11543184518814087, 0.0791131854057312, 0.07113455981016159, 0.0698220506310463, 0.12692894041538239, 0.06311874091625214, 0.07318402826786041, 0.08446813374757767, 0.12255194783210754, 0.060024213045835495, 0.0925842896103859, 0.0698985829949379, 0.31494563817977905, 0.062276825308799744, 0.06839226186275482, 0.07631118595600128, 0.3764142096042633, 0.10631813108921051, 0.09151429682970047, 0.06536997854709625, 0.18380485475063324, 0.06377247720956802, 0.08211717754602432, 0.07614713907241821, 0.1398419290781021, 0.06966814398765564, 0.08738274872303009, 0.07011855393648148, 0.16538020968437195, 0.06884835660457611, 0.07819711416959763, 0.07186763733625412, 0.2878115475177765, 0.08040178567171097, 0.07337530702352524, 0.06217348575592041, 0.2568434774875641, 0.06708934903144836, 0.07373843342065811, 0.08865775913000107, 0.10418429970741272, 0.0854179859161377, 0.07248637825250626, 0.06928031146526337, 0.17342185974121094, 0.06585745513439178, 0.06937999278306961, 0.06570792198181152, 0.561311662197113, 0.07313475757837296, 0.09163478761911392, 0.06915050745010376, 0.4551769495010376, 0.07446254044771194, 0.0837005078792572, 0.06180579960346222, 0.32237276434898376, 0.07135467231273651, 0.07090967893600464, 0.07000333070755005, 0.1392822563648224, 0.08191848546266556, 0.07934114336967468, 0.07798327505588531, 0.07944600284099579, 0.08114395290613174, 0.06794911623001099, 0.0808698982000351, 0.09092745929956436, 0.0710332840681076, 0.0730050653219223, 0.07521257549524307, 0.2337975800037384, 0.06829644739627838, 0.08893825858831406, 0.08214552700519562, 0.1706211417913437, 0.07140292972326279, 0.0657561793923378, 0.06649751961231232, 0.22775155305862427, 0.06755433976650238, 0.06820867210626602, 0.07325122505426407, 0.13988029956817627, 0.06874051690101624, 0.06874212622642517, 0.0693659856915474, 0.09776163101196289, 0.0678752064704895, 0.07362788915634155, 0.07700609415769577, 0.8408766984939575, 0.09472043067216873, 0.07601229846477509, 0.09854493290185928, 0.10226492583751678, 0.06700901687145233, 0.07131534814834595, 0.07220347970724106, 0.12730415165424347, 0.07120498269796371, 0.0714334174990654, 0.06447358429431915, 0.18697115778923035, 0.07801293581724167, 0.0686521828174591, 0.07400931417942047, 0.39876437187194824, 0.08089268207550049, 0.06773991882801056, 0.06890498101711273, 0.33471596240997314, 0.06713104248046875, 0.07900819927453995, 0.07968814671039581, 0.22856754064559937, 0.08259063959121704, 0.07508344203233719, 0.07736716419458389, 0.22848671674728394, 0.07040731608867645, 0.06920972466468811, 0.06924499571323395, 0.5647941827774048, 0.06668541580438614, 0.07439305633306503, 0.0709935873746872, 0.14798957109451294, 0.0678238719701767, 0.07474342733621597, 0.07388688623905182, 0.12826988101005554, 0.07545287162065506, 0.06656504422426224, 0.08140873908996582, 0.12299694865942001, 0.08212293684482574, 0.08555299043655396, 0.06617625057697296, 0.16789637506008148, 0.07293375581502914, 0.07004880160093307, 0.06997399777173996, 0.11162294447422028, 0.08570847660303116, 0.06522640585899353, 0.08011139184236526, 1.0935100317001343, 0.07329148054122925, 0.07463069260120392, 0.07048618793487549, 0.074020154774189, 0.07788269221782684, 0.07691141217947006, 0.08433282375335693, 0.09852275997400284, 0.08191458880901337, 0.07561060041189194, 0.07204217463731766, 0.3486197590827942, 0.08498002588748932, 0.07796184718608856, 0.07831098884344101, 0.5744876265525818, 0.06467872858047485, 0.08082769066095352, 0.07989689707756042, 0.5460429191589355, 0.08180277049541473, 0.07510461658239365, 0.0672580823302269, 0.1403106302022934, 0.07297278195619583, 0.06192219629883766, 0.07728829234838486, 0.12255307286977768, 0.06809242814779282, 0.0628981739282608, 0.08982768654823303, 0.21102847158908844, 0.07270050793886185, 0.0672852024435997, 0.07086342573165894, 0.15544547140598297]\n"
     ]
    }
   ],
   "source": [
    "print(losses)"
   ]
  },
  {
   "cell_type": "code",
   "execution_count": 10,
   "metadata": {},
   "outputs": [
    {
     "name": "stdout",
     "output_type": "stream",
     "text": [
      "[0.105, 0.1, 0.145, 0.14, 0.22, 0.58, 0.345, 0.745, 0.525, 0.795, 0.755, 0.505, 0.805, 0.745, 0.975, 0.63, 0.87, 1.0, 0.94, 1.0, 1.0, 1.0, 1.0, 1.0, 1.0, 1.0, 1.0, 1.0, 1.0, 1.0, 1.0, 1.0, 1.0, 1.0, 1.0, 1.0, 1.0, 1.0, 1.0, 1.0, 1.0, 1.0, 1.0, 1.0, 1.0, 1.0, 1.0, 1.0, 1.0, 1.0, 1.0, 1.0, 1.0, 1.0, 1.0, 1.0, 1.0, 1.0, 1.0, 1.0, 1.0, 1.0, 1.0, 1.0, 1.0, 1.0, 1.0, 1.0, 1.0, 1.0, 1.0, 1.0, 1.0, 1.0, 1.0, 1.0, 1.0, 1.0, 1.0, 1.0, 1.0, 1.0, 1.0, 1.0, 1.0, 1.0, 1.0, 1.0, 1.0, 1.0, 1.0, 1.0, 1.0, 1.0, 1.0, 1.0, 1.0, 1.0, 1.0, 1.0]\n"
     ]
    }
   ],
   "source": [
    "print(accuracy)"
   ]
  },
  {
   "cell_type": "code",
   "execution_count": 11,
   "metadata": {},
   "outputs": [
    {
     "name": "stdout",
     "output_type": "stream",
     "text": [
      "[1.808389377593994, 1.371109175682068, 1.0140065729618073, 0.6807920396327972, 0.5875876039266587, 0.3431082218885422, 0.28769623935222627, 0.1393894411623478, 0.15090266093611718, 0.14145793840289117, 0.13310788944363594, 0.19776403531432152, 0.15431996434926987, 0.13393205106258393, 0.09578145071864128, 0.09949308708310127, 0.09219318553805352, 0.11243339404463767, 0.09424869865179061, 0.11702737510204315, 0.09268752858042717, 0.08845023959875106, 0.10114446617662906, 0.12616113796830178, 0.10530514046549797, 0.1053293339908123, 0.16095170825719834, 0.1054417409002781, 0.0931173637509346, 0.10330693870782852, 0.153472887724638, 0.09327249974012375, 0.1317831590771675, 0.15454398691654206, 0.08468036130070686, 0.09307337403297425, 0.17717789262533187, 0.15767831951379777, 0.12708173133432865, 0.09979827329516411, 0.0, 0.0, 0.0, 0.0, 0.0, 0.0, 0.0, 0.0, 0.0, 0.0, 0.0, 0.0, 0.0, 0.0, 0.0, 0.0, 0.0, 0.0, 0.0, 0.0, 0.0, 0.0, 0.0, 0.0, 0.0, 0.0, 0.0, 0.0, 0.0, 0.0, 0.0, 0.0, 0.0, 0.0, 0.0, 0.0, 0.0, 0.0, 0.0, 0.0, 0.0, 0.0, 0.0, 0.0, 0.0, 0.0, 0.0, 0.0, 0.0, 0.0, 0.0, 0.0, 0.0, 0.0, 0.0, 0.0, 0.0, 0.0, 0.0, 0.0]\n"
     ]
    }
   ],
   "source": [
    "def mean10(data):\n",
    "    newdata=[]\n",
    "    for i in range(100):\n",
    "        newdata.append(sum(data[i*10:i*10+10])/10)\n",
    "    print(newdata)\n",
    "    return newdata\n",
    "losses=np.array(losses)/2"
   ]
  },
  {
   "cell_type": "code",
   "execution_count": 12,
   "metadata": {},
   "outputs": [
    {
     "data": {
      "image/png": "[encoded data removed]",
      "text/plain": [
       "<Figure size 432x288 with 1 Axes>"
      ]
     },
     "metadata": {
      "needs_background": "light"
     },
     "output_type": "display_data"
    }
   ],
   "source": [
    "plt.figure()\n",
    "plt.plot(range(len(losses)),losses,label='Loss', color='red',linestyle='-',marker='.')\n",
    "plt.plot(range(len(accuracy)),accuracy,label='Accuracy', color='black',linestyle=':',marker='.')\n",
    "plt.xlabel('Epoch')\n",
    "plt.ylabel('Loss/Accuracy')\n",
    "plt.legend(loc='upper left')\n",
    "plt.show()\n",
    "df=np.array([accuracy,losses])\n",
    "df=df.T\n",
    "df=pd.DataFrame(df,columns=[\"accuracy\",\"loss\"])\n",
    "df.to_csv(\"result_200_ts.csv\")\n",
    "def save_model(net, path):\n",
    "    torch.save(net, path)\n",
    "save_model(model, \"1dcnn_200_Adam_RLR.pkl\")"
   ]
  },
  {
   "cell_type": "code",
   "execution_count": 13,
   "metadata": {},
   "outputs": [],
   "source": [
    "#df=np.array([accuracy,losses])\n",
    "#df=df.T\n",
    "#df=pd.DataFrame(df,columns=[\"acc\",\"loss\"])\n",
    "#df.to_csv(\"result.csv\")"
   ]
  },
  {
   "cell_type": "code",
   "execution_count": 14,
   "metadata": {},
   "outputs": [
    {
     "name": "stdout",
     "output_type": "stream",
     "text": [
      "\n",
      "Test Epoch: 2\tAccuracy: 200/200 (100%)\n",
      "\n",
      "[6, 7, 6, 0, 6, 9, 3, 8, 8, 5, 6, 2, 1, 1, 2, 1, 7, 2, 8, 8, 7, 2, 0, 0, 1, 2, 9, 8, 1, 0, 0, 3, 3, 7, 5, 9, 6, 3, 1, 3, 9, 1, 9, 7, 1, 2, 2, 9, 5, 3, 3, 8, 0, 6, 8, 9, 4, 6, 8, 1, 4, 1, 5, 0, 5, 1, 8, 9, 4, 9, 7, 5, 4, 3, 5, 7, 6, 7, 8, 3, 7, 3, 9, 3, 2, 5, 5, 8, 1, 6, 9, 5, 8, 4, 6, 8, 6, 0, 2, 4, 2, 0, 7, 2, 1, 2, 5, 1, 3, 9, 4, 0, 8, 0, 6, 5, 1, 6, 0, 4, 9, 0, 4, 4, 7, 7, 0, 8, 6, 9, 5, 9, 8, 8, 4, 4, 6, 0, 3, 4, 5, 2, 9, 6, 5, 6, 6, 4, 0, 3, 6, 4, 4, 9, 2, 2, 1, 2, 1, 0, 3, 1, 2, 7, 1, 3, 0, 8, 7, 2, 7, 5, 4, 3, 9, 1, 9, 2, 9, 5, 5, 5, 7, 3, 4, 3, 0, 5, 4, 2, 7, 3, 6, 0, 7, 8, 7, 8, 4, 7]\n",
      "200\n",
      "[6, 7, 6, 0, 6, 9, 3, 8, 8, 5, 6, 2, 1, 1, 2, 1, 7, 2, 8, 8, 7, 2, 0, 0, 1, 2, 9, 8, 1, 0, 0, 3, 3, 7, 5, 9, 6, 3, 1, 3, 9, 1, 9, 7, 1, 2, 2, 9, 5, 3, 3, 8, 0, 6, 8, 9, 4, 6, 8, 1, 4, 1, 5, 0, 5, 1, 8, 9, 4, 9, 7, 5, 4, 3, 5, 7, 6, 7, 8, 3, 7, 3, 9, 3, 2, 5, 5, 8, 1, 6, 9, 5, 8, 4, 6, 8, 6, 0, 2, 4, 2, 0, 7, 2, 1, 2, 5, 1, 3, 9, 4, 0, 8, 0, 6, 5, 1, 6, 0, 4, 9, 0, 4, 4, 7, 7, 0, 8, 6, 9, 5, 9, 8, 8, 4, 4, 6, 0, 3, 4, 5, 2, 9, 6, 5, 6, 6, 4, 0, 3, 6, 4, 4, 9, 2, 2, 1, 2, 1, 0, 3, 1, 2, 7, 1, 3, 0, 8, 7, 2, 7, 5, 4, 3, 9, 1, 9, 2, 9, 5, 5, 5, 7, 3, 4, 3, 0, 5, 4, 2, 7, 3, 6, 0, 7, 8, 7, 8, 4, 7]\n"
     ]
    }
   ],
   "source": [
    "def myonetest(model, epoch):\n",
    "    model.eval().cpu()\n",
    "    correct = 0\n",
    "    onepredict=[]\n",
    "    onetarget=[]\n",
    "    for data, target in testloader:\n",
    "\n",
    "        data = data.to(torch.float32)\n",
    "\n",
    "        # apply transform and model on whole batch directly on device\n",
    "        output = model(data)\n",
    "\n",
    "        pred = get_likely_index(output)\n",
    "        correct += number_of_correct(pred, target)   \n",
    "        # update progress bar\n",
    "        #pbar.update(pbar_update)\n",
    "        pred=list(pred.squeeze().numpy())\n",
    "        target=list(target.squeeze().numpy())\n",
    "        onepredict += pred\n",
    "        onetarget+=target\n",
    "    print(f\"\\nTest Epoch: {epoch}\\tAccuracy: {correct}/{len(testloader.dataset)} ({100. * correct / len(testloader.dataset):.0f}%)\\n\")\n",
    "    return (correct/(len(testloader.dataset)),onepredict,onetarget)\n",
    "_,onepredict,onetarget=myonetest(model,2)\n",
    "print(onepredict)\n",
    "print(len(onepredict))\n",
    "print(onetarget)"
   ]
  },
  {
   "cell_type": "code",
   "execution_count": 15,
   "metadata": {},
   "outputs": [
    {
     "name": "stdout",
     "output_type": "stream",
     "text": [
      "[[20  0  0  0  0  0  0  0  0  0]\n",
      " [ 0 20  0  0  0  0  0  0  0  0]\n",
      " [ 0  0 20  0  0  0  0  0  0  0]\n",
      " [ 0  0  0 20  0  0  0  0  0  0]\n",
      " [ 0  0  0  0 20  0  0  0  0  0]\n",
      " [ 0  0  0  0  0 20  0  0  0  0]\n",
      " [ 0  0  0  0  0  0 20  0  0  0]\n",
      " [ 0  0  0  0  0  0  0 20  0  0]\n",
      " [ 0  0  0  0  0  0  0  0 20  0]\n",
      " [ 0  0  0  0  0  0  0  0  0 20]]\n",
      "[['20' '0' '0' '0' '0' '0' '0' '0' '0' '0']\n",
      " ['0' '20' '0' '0' '0' '0' '0' '0' '0' '0']\n",
      " ['0' '0' '20' '0' '0' '0' '0' '0' '0' '0']\n",
      " ['0' '0' '0' '20' '0' '0' '0' '0' '0' '0']\n",
      " ['0' '0' '0' '0' '20' '0' '0' '0' '0' '0']\n",
      " ['0' '0' '0' '0' '0' '20' '0' '0' '0' '0']\n",
      " ['0' '0' '0' '0' '0' '0' '20' '0' '0' '0']\n",
      " ['0' '0' '0' '0' '0' '0' '0' '20' '0' '0']\n",
      " ['0' '0' '0' '0' '0' '0' '0' '0' '20' '0']\n",
      " ['0' '0' '0' '0' '0' '0' '0' '0' '0' '20']]\n"
     ]
    },
    {
     "data": {
      "image/png": "[encoded data removed]",
      "text/plain": [
       "<Figure size 864x576 with 2 Axes>"
      ]
     },
     "metadata": {},
     "output_type": "display_data"
    }
   ],
   "source": [
    "def myConfusionMatrixHeatmap(y_pred,y_true):\n",
    "    import numpy\n",
    "    import seaborn as sns\n",
    "    from sklearn.metrics import confusion_matrix\n",
    "    import matplotlib.pyplot as plt\n",
    "\n",
    "    \n",
    "    sns.set({'figure.figsize': [12,8]})\n",
    "    f, ax = plt.subplots()\n",
    "    #y_true = [0, 0, 1, 2, 1, 2, 0, 2, 2, 0, 1, 1]\n",
    "    #y_pred = [1, 0, 1, 2, 1, 0, 0, 2, 2, 0, 1, 1]\n",
    "    C2 = confusion_matrix(y_true, y_pred, labels=[0, 1, 2, 3, 4, 5, 6, 7, 8, 9])\n",
    "    C2_Acc=C2/20*100\n",
    "    annot=numpy.zeros(C2.shape).astype(int).astype(str)\n",
    "    trueSum=0\n",
    "    for i in range(10):\n",
    "        trueSum+=C2[i][i];\n",
    "        for j in range(10):\n",
    "            if(C2[i][j]!=0):\n",
    "                annot[i][j]=\"{}\".format(C2[i][j])\n",
    "\n",
    "    print(C2)\n",
    "    print(annot)\n",
    "    sns.heatmap(C2, annot=annot, fmt=\"\", ax=ax, cmap=\"Blues\")  \n",
    "\n",
    "    ax.set_title('Accuracy {:.1f}%'.format(trueSum/200*100)) \n",
    "    ax.set_xlabel('Predict label')  \n",
    "    ax.set_ylabel('True label')  \n",
    "    plt.show()\n",
    "    \n",
    "myConfusionMatrixHeatmap(onepredict,onetarget)"
   ]
  }
 ],
 "metadata": {
  "kernelspec": {
   "display_name": "Python 3 (ipykernel)",
   "language": "python",
   "name": "python3"
  },
  "language_info": {
   "codemirror_mode": {
    "name": "ipython",
    "version": 3
   },
   "file_extension": ".py",
   "mimetype": "text/x-python",
   "name": "python",
   "nbconvert_exporter": "python",
   "pygments_lexer": "ipython3",
   "version": "3.8.2"
  }
 },
 "nbformat": 4,
 "nbformat_minor": 2
}
