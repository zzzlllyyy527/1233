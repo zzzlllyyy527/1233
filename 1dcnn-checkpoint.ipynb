{
 "cells": [
  {
   "cell_type": "code",
   "execution_count": 1,
   "metadata": {},
   "outputs": [],
   "source": [
    "import torch\n",
    "import torch.nn as nn\n",
    "import torch.optim as optim\n",
    "import torch.nn.functional as F\n",
    "from torch.utils.data import Dataset,DataLoader\n",
    "from torchsummary import summary\n",
    "import numpy as np\n",
    "import pandas as pd\n",
    "import re\n",
    "import glob\n",
    "import os \n",
    "import sys\n",
    "import matplotlib.pyplot as plt\n",
    "from tqdm import tqdm\n",
    "\n",
    "device =torch.device(\"cuda:0\" if torch.cuda.is_available() else \"cpu\")# 'cuda:0'"
   ]
  },
  {
   "cell_type": "code",
   "execution_count": 2,
   "metadata": {},
   "outputs": [],
   "source": [
    "# build the dataset\n",
    "class MyDataset(Dataset):\n",
    "    def __init__(self,root_dir):\n",
    "        self.root_dir=root_dir\n",
    "        \n",
    "        self.filenames=sorted(glob.glob(os.path.abspath(\"{root}/*.csv\".format(root=root_dir))))\n",
    "        self.waveforms=self.getwaveforms(self.filenames)\n",
    "    \n",
    "    def getwaveforms(self,files):\n",
    "        files_num=len(files)\n",
    "        waveforms=[]\n",
    "        print(\"building the dataset...\")\n",
    "        for i in tqdm(range(files_num)):\n",
    "            waveforms.append(torch.tensor([pd.read_csv(files[i]).iloc[:,0].values]).to(torch.float32))\n",
    "        #waveforms=torch.tensor(waveforms).to(torch.float32)\n",
    "        return waveforms\n",
    "    \n",
    "    def __len__(self):\n",
    "        return len(self.filenames)\n",
    "    \n",
    "    def __getitem__(self,idx):\n",
    "        label=re.findall(r\"\\\\\\d+-\",self.filenames[idx])#re.findall(r\"/\\d+-\",self.filenames[idx])\n",
    "        return self.waveforms[idx],int(label[0][1:-1])"
   ]
  },
  {
   "cell_type": "code",
   "execution_count": 3,
   "metadata": {},
   "outputs": [
    {
     "name": "stdout",
     "output_type": "stream",
     "text": [
      "building the dataset...\n"
     ]
    },
    {
     "name": "stderr",
     "output_type": "stream",
     "text": [
      "  0%|                                                                                          | 0/204 [00:00<?, ?it/s]C:\\Users\\dance\\AppData\\Local\\Temp\\ipykernel_18912\\1669721969.py:14: UserWarning: Creating a tensor from a list of numpy.ndarrays is extremely slow. Please consider converting the list to a single numpy.ndarray with numpy.array() before converting to a tensor. (Triggered internally at C:\\actions-runner\\_work\\pytorch\\pytorch\\builder\\windows\\pytorch\\torch\\csrc\\utils\\tensor_new.cpp:233.)\n",
      "  waveforms.append(torch.tensor([pd.read_csv(files[i]).iloc[:,0].values]).to(torch.float32))\n",
      "100%|███████████████████████████████████████████████████████████████████████████████| 204/204 [00:00<00:00, 512.64it/s]\n"
     ]
    }
   ],
   "source": [
    "dataset=MyDataset(\"F:/PycharmData/Jupyter notebook/ACS_AEM_Codes/datasets/石墨烯列csv\")\n",
    "#dataset=MyDataset(\"F:\\PycharmData\\石墨烯麦克风项目\\项目程序\\wenbengjiami\\Tea_Data_Csv\")\n",
    "dataset_len=len(dataset)\n",
    "trainset_len=int(0.8*dataset_len)\n",
    "#trainset,testset=torch.utils.data.random_split(dataset,[trainset_len,dataset_len-trainset_len])\n",
    "trainset,testset=torch.utils.data.random_split(dataset,[trainset_len,dataset_len-trainset_len])\n",
    "#trainset,testset=dataset,dataset\n",
    "def pad_sequence(batch):\n",
    "    batch=[item.t() for item in batch]\n",
    "    batch=torch.nn.utils.rnn.pad_sequence(batch,batch_first=True,padding_value=0.)\n",
    "    return batch.permute(0,2,1)\n",
    "    \n",
    "def collate_fn(batch):\n",
    "    tensors,targets=[],[]\n",
    "    for waveform,label in batch:\n",
    "        tensors+=[waveform]\n",
    "        targets+=[torch.tensor(label)]\n",
    "    tensors=pad_sequence(tensors)\n",
    "    targets=torch.stack(targets)\n",
    "    return tensors,targets\n",
    "    \n",
    "batch_size=64\n",
    "trainloader=DataLoader(trainset,batch_size=batch_size,shuffle=True,collate_fn=collate_fn)\n",
    "testloader=DataLoader(testset,batch_size=batch_size,shuffle=True,collate_fn=collate_fn)"
   ]
  },
  {
   "cell_type": "code",
   "execution_count": 4,
   "metadata": {},
   "outputs": [
    {
     "name": "stdout",
     "output_type": "stream",
     "text": [
      "----------------------------------------------------------------\n",
      "        Layer (type)               Output Shape         Param #\n",
      "================================================================\n",
      "            Conv1d-1              [-1, 8, 1706]              48\n",
      "       BatchNorm1d-2              [-1, 8, 1706]              16\n",
      "         MaxPool1d-3               [-1, 8, 426]               0\n",
      "            Conv1d-4              [-1, 16, 424]             400\n",
      "       BatchNorm1d-5              [-1, 16, 424]              32\n",
      "         MaxPool1d-6              [-1, 16, 106]               0\n",
      "            Conv1d-7              [-1, 32, 104]           1,568\n",
      "       BatchNorm1d-8              [-1, 32, 104]              64\n",
      "         MaxPool1d-9               [-1, 32, 26]               0\n",
      "           Conv1d-10               [-1, 64, 24]           6,208\n",
      "      BatchNorm1d-11               [-1, 64, 24]             128\n",
      "        MaxPool1d-12                [-1, 64, 6]               0\n",
      "           Linear-13                [-1, 1, 10]             650\n",
      "================================================================\n",
      "Total params: 9,114\n",
      "Trainable params: 9,114\n",
      "Non-trainable params: 0\n",
      "----------------------------------------------------------------\n",
      "Input size (MB): 0.02\n",
      "Forward/backward pass size (MB): 0.43\n",
      "Params size (MB): 0.03\n",
      "Estimated Total Size (MB): 0.49\n",
      "----------------------------------------------------------------\n",
      "M(\n",
      "  (conv1): Conv1d(1, 8, kernel_size=(5,), stride=(3,))\n",
      "  (bn1): BatchNorm1d(8, eps=1e-05, momentum=0.1, affine=True, track_running_stats=True)\n",
      "  (pool1): MaxPool1d(kernel_size=4, stride=4, padding=0, dilation=1, ceil_mode=False)\n",
      "  (conv2): Conv1d(8, 16, kernel_size=(3,), stride=(1,))\n",
      "  (bn2): BatchNorm1d(16, eps=1e-05, momentum=0.1, affine=True, track_running_stats=True)\n",
      "  (pool2): MaxPool1d(kernel_size=4, stride=4, padding=0, dilation=1, ceil_mode=False)\n",
      "  (conv3): Conv1d(16, 32, kernel_size=(3,), stride=(1,))\n",
      "  (bn3): BatchNorm1d(32, eps=1e-05, momentum=0.1, affine=True, track_running_stats=True)\n",
      "  (pool3): MaxPool1d(kernel_size=4, stride=4, padding=0, dilation=1, ceil_mode=False)\n",
      "  (conv4): Conv1d(32, 64, kernel_size=(3,), stride=(1,))\n",
      "  (bn4): BatchNorm1d(64, eps=1e-05, momentum=0.1, affine=True, track_running_stats=True)\n",
      "  (pool4): MaxPool1d(kernel_size=4, stride=4, padding=0, dilation=1, ceil_mode=False)\n",
      "  (fc1): Linear(in_features=64, out_features=10, bias=True)\n",
      ")\n",
      "Number of parameters: 9114\n"
     ]
    }
   ],
   "source": [
    "# define the model\n",
    "class M(nn.Module):\n",
    "    def __init__(self, n_input=1, n_output=10):\n",
    "        super().__init__()\n",
    "        self.conv1 = nn.Conv1d(n_input, 8, kernel_size=5, stride=3)\n",
    "        self.bn1 = nn.BatchNorm1d(8)\n",
    "        self.pool1 = nn.MaxPool1d(4)\n",
    "        self.conv2 = nn.Conv1d(8, 16, kernel_size=3, stride=1)\n",
    "        self.bn2 = nn.BatchNorm1d(16)\n",
    "        self.pool2 = nn.MaxPool1d(4)\n",
    "        self.conv3 = nn.Conv1d(16, 32, kernel_size=3, stride=1)\n",
    "        self.bn3 = nn.BatchNorm1d(32)\n",
    "        self.pool3 = nn.MaxPool1d(4)\n",
    "        self.conv4 = nn.Conv1d(32, 64, kernel_size=3, stride=1)\n",
    "        self.bn4 = nn.BatchNorm1d(64)\n",
    "        self.pool4 = nn.MaxPool1d(4)\n",
    "        self.fc1 = nn.Linear(64, n_output)\n",
    "    \n",
    "    def forward(self, x):\n",
    "        x = self.conv1(x)\n",
    "        x = F.relu(self.bn1(x))\n",
    "        x = self.pool1(x)\n",
    "        x = self.conv2(x)\n",
    "        x = F.relu(self.bn2(x))\n",
    "        x = self.pool2(x)\n",
    "        x = self.conv3(x)\n",
    "        x = F.relu(self.bn3(x))\n",
    "        x = self.pool3(x)\n",
    "        x = self.conv4(x)\n",
    "        x = F.relu(self.bn4(x))\n",
    "        x = self.pool4(x)\n",
    "        x = F.avg_pool1d(x, x.shape[-1])\n",
    "        x = x.permute(0, 2, 1)\n",
    "        x = self.fc1(x)\n",
    "        return F.log_softmax(x, dim=2)\n",
    "\n",
    "model = M(n_input=1, n_output=10)\n",
    "model=model.to(device)\n",
    "summary(model,(1,5120))\n",
    "\n",
    "print(model)\n",
    "def count_parameters(model):\n",
    "    return sum(p.numel() for p in model.parameters() if p.requires_grad)\n",
    "    \n",
    "n = count_parameters(model)\n",
    "print(\"Number of parameters: %s\" % n)"
   ]
  },
  {
   "cell_type": "code",
   "execution_count": 5,
   "metadata": {},
   "outputs": [],
   "source": [
    "# define the optimizer\n",
    "optimizer = optim.Adam(model.parameters(), lr=0.01, betas=(0.9,0.99))\n",
    "# optimizer = optim.SGD(model.parameters(), lr=0.01, weight_decay=0.0001)\n",
    "# scheduler = optim.lr_scheduler.StepLR(optimizer, step_size=30, gamma=0.8)\n",
    "scheduler = optim.lr_scheduler.OneCycleLR(optimizer, max_lr=0.1, total_steps=10000)"
   ]
  },
  {
   "cell_type": "code",
   "execution_count": 6,
   "metadata": {},
   "outputs": [],
   "source": [
    "def train(model,epoch,log_interval):\n",
    "    model.train()\n",
    "    for batch_idx, (data, target) in enumerate(trainloader):\n",
    "        data=data.to(device).to(torch.float32)\n",
    "        target=target.to(device)\n",
    "        output = model(data)\n",
    "        loss = F.nll_loss(output.squeeze(), target)\n",
    "        \n",
    "        optimizer.zero_grad()\n",
    "        loss.backward()\n",
    "        optimizer.step()\n",
    "        \n",
    "        if batch_idx % log_interval == 0:\n",
    "            print(f\"Train Epoch: {epoch} [{batch_idx * len(data)}/{len(trainloader.dataset)} ({100. * batch_idx / len(trainloader):.0f}%)]\\tLoss: {loss.item():.6f}\")\n",
    "            losses.append(loss.item())"
   ]
  },
  {
   "cell_type": "code",
   "execution_count": 7,
   "metadata": {},
   "outputs": [],
   "source": [
    "def number_of_correct(pred, target):\n",
    "    # count number of correct predictions\n",
    "    return pred.squeeze().eq(target).sum().item()\n",
    "    \n",
    "    \n",
    "def get_likely_index(tensor):\n",
    "    # find most likely label index for each element in the batch\n",
    "    return tensor.argmax(dim=-1)\n",
    "    \n",
    "    \n",
    "def test(model, epoch):\n",
    "    model.eval()\n",
    "    correct = 0\n",
    "    for data, target in testloader:\n",
    "        \n",
    "        data = data.to(torch.float32).to(device)\n",
    "        target=target.to(device)\n",
    "        # apply transform and model on whole batch directly on device\n",
    "        output = model(data)\n",
    "        \n",
    "        pred = get_likely_index(output)\n",
    "        correct += number_of_correct(pred, target)   \n",
    "        \n",
    "        \n",
    "    print(f\"\\nTest Epoch: {epoch}\\tAccuracy: {correct}/{len(testloader.dataset)} ({100. * correct / len(testloader.dataset):.0f}%)\\n\")\n",
    "    return correct/(len(testloader.dataset))"
   ]
  },
  {
   "cell_type": "code",
   "execution_count": 8,
   "metadata": {},
   "outputs": [
    {
     "name": "stderr",
     "output_type": "stream",
     "text": [
      "\r",
      "  0%|                                                                                          | 0/100 [00:00<?, ?it/s]"
     ]
    },
    {
     "name": "stdout",
     "output_type": "stream",
     "text": [
      "Train Epoch: 1 [0/163 (0%)]\tLoss: 2.544456"
     ]
    },
    {
     "name": "stderr",
     "output_type": "stream",
     "text": [
      "  4%|███▎                                                                              | 4/100 [00:00<00:05, 16.07it/s]"
     ]
    },
    {
     "name": "stdout",
     "output_type": "stream",
     "text": [
      "\n",
      "\n",
      "Test Epoch: 1\tAccuracy: 3/41 (7%)\n",
      "\n",
      "Train Epoch: 2 [0/163 (0%)]\tLoss: 1.520942\n",
      "\n",
      "Test Epoch: 2\tAccuracy: 3/41 (7%)\n",
      "\n",
      "Train Epoch: 3 [0/163 (0%)]\tLoss: 1.065174\n",
      "\n",
      "Test Epoch: 3\tAccuracy: 7/41 (17%)\n",
      "\n",
      "Train Epoch: 4 [0/163 (0%)]\tLoss: 1.054651\n",
      "\n",
      "Test Epoch: 4\tAccuracy: 7/41 (17%)\n",
      "\n",
      "Train Epoch: 5 [0/163 (0%)]\tLoss: 0.889982\n"
     ]
    },
    {
     "name": "stderr",
     "output_type": "stream",
     "text": [
      "\r",
      "  7%|█████▋                                                                            | 7/100 [00:00<00:04, 18.84it/s]"
     ]
    },
    {
     "name": "stdout",
     "output_type": "stream",
     "text": [
      "\n",
      "Test Epoch: 5\tAccuracy: 7/41 (17%)\n",
      "\n",
      "Train Epoch: 6 [0/163 (0%)]\tLoss: 0.707726\n",
      "\n",
      "Test Epoch: 6\tAccuracy: 7/41 (17%)\n",
      "\n",
      "Train Epoch: 7 [0/163 (0%)]\tLoss: 0.590100\n",
      "\n",
      "Test Epoch: 7\tAccuracy: 7/41 (17%)\n",
      "\n",
      "Train Epoch: 8 [0/163 (0%)]\tLoss: 0.473636\n",
      "\n",
      "Test Epoch: 8\tAccuracy: 7/41 (17%)\n",
      "\n",
      "Train Epoch: 9 [0/163 (0%)]\tLoss: 0.440270\n",
      "\n",
      "Test Epoch: 9\tAccuracy: 7/41 (17%)\n",
      "\n",
      "Train Epoch: 10 [0/163 (0%)]\tLoss: 0.351224\n",
      "\n",
      "Test Epoch: 10\tAccuracy: 9/41 (22%)\n",
      "\n"
     ]
    },
    {
     "name": "stderr",
     "output_type": "stream",
     "text": [
      " 13%|██████████▌                                                                      | 13/100 [00:00<00:04, 21.33it/s]"
     ]
    },
    {
     "name": "stdout",
     "output_type": "stream",
     "text": [
      "Train Epoch: 11 [0/163 (0%)]\tLoss: 0.228742\n",
      "\n",
      "Test Epoch: 11\tAccuracy: 18/41 (44%)\n",
      "\n",
      "Train Epoch: 12 [0/163 (0%)]\tLoss: 0.217360\n",
      "\n",
      "Test Epoch: 12\tAccuracy: 19/41 (46%)\n",
      "\n",
      "Train Epoch: 13 [0/163 (0%)]\tLoss: 0.152562\n",
      "\n",
      "Test Epoch: 13\tAccuracy: 22/41 (54%)\n",
      "\n",
      "Train Epoch: 14 [0/163 (0%)]\tLoss: 0.111777\n",
      "\n",
      "Test Epoch: 14\tAccuracy: 23/41 (56%)\n",
      "\n",
      "Train Epoch: 15 [0/163 (0%)]\tLoss: 0.105911\n"
     ]
    },
    {
     "name": "stderr",
     "output_type": "stream",
     "text": [
      "\r",
      " 16%|████████████▉                                                                    | 16/100 [00:00<00:03, 21.49it/s]"
     ]
    },
    {
     "name": "stdout",
     "output_type": "stream",
     "text": [
      "\n",
      "Test Epoch: 15\tAccuracy: 23/41 (56%)\n",
      "\n",
      "Train Epoch: 16 [0/163 (0%)]\tLoss: 0.067555\n",
      "\n",
      "Test Epoch: 16\tAccuracy: 24/41 (59%)\n",
      "\n",
      "Train Epoch: 17 [0/163 (0%)]\tLoss: 0.068443\n",
      "\n",
      "Test Epoch: 17\tAccuracy: 26/41 (63%)\n",
      "\n",
      "Train Epoch: 18 [0/163 (0%)]\tLoss: 0.062204\n",
      "\n",
      "Test Epoch: 18\tAccuracy: 32/41 (78%)\n",
      "\n",
      "Train Epoch: 19 [0/163 (0%)]\tLoss: 0.024423\n",
      "\n",
      "Test Epoch: 19\tAccuracy: 33/41 (80%)\n",
      "\n"
     ]
    },
    {
     "name": "stderr",
     "output_type": "stream",
     "text": [
      " 22%|█████████████████▊                                                               | 22/100 [00:01<00:03, 20.82it/s]"
     ]
    },
    {
     "name": "stdout",
     "output_type": "stream",
     "text": [
      "Train Epoch: 20 [0/163 (0%)]\tLoss: 0.026223\n",
      "\n",
      "Test Epoch: 20\tAccuracy: 36/41 (88%)\n",
      "\n",
      "Train Epoch: 21 [0/163 (0%)]\tLoss: 0.021523\n",
      "\n",
      "Test Epoch: 21\tAccuracy: 39/41 (95%)\n",
      "\n",
      "Train Epoch: 22 [0/163 (0%)]\tLoss: 0.018127\n",
      "\n",
      "Test Epoch: 22\tAccuracy: 40/41 (98%)\n",
      "\n",
      "Train Epoch: 23 [0/163 (0%)]\tLoss: 0.020122\n",
      "\n",
      "Test Epoch: 23\tAccuracy: 40/41 (98%)\n",
      "\n"
     ]
    },
    {
     "name": "stderr",
     "output_type": "stream",
     "text": [
      "\r",
      " 25%|████████████████████▎                                                            | 25/100 [00:01<00:03, 21.17it/s]"
     ]
    },
    {
     "name": "stdout",
     "output_type": "stream",
     "text": [
      "Train Epoch: 24 [0/163 (0%)]\tLoss: 0.011747\n",
      "\n",
      "Test Epoch: 24\tAccuracy: 40/41 (98%)\n",
      "\n",
      "Train Epoch: 25 [0/163 (0%)]\tLoss: 0.013797\n",
      "\n",
      "Test Epoch: 25\tAccuracy: 40/41 (98%)\n",
      "\n",
      "Train Epoch: 26 [0/163 (0%)]\tLoss: 0.011423\n",
      "\n",
      "Test Epoch: 26\tAccuracy: 40/41 (98%)\n",
      "\n",
      "Train Epoch: 27 [0/163 (0%)]\tLoss: 0.004903\n",
      "\n",
      "Test Epoch: 27\tAccuracy: 40/41 (98%)\n",
      "\n",
      "Train Epoch: 28 [0/163 (0%)]\tLoss: 0.018055\n",
      "\n",
      "Test Epoch: 28\tAccuracy: 41/41 (100%)\n",
      "\n"
     ]
    },
    {
     "name": "stderr",
     "output_type": "stream",
     "text": [
      " 31%|█████████████████████████                                                        | 31/100 [00:01<00:03, 22.14it/s]"
     ]
    },
    {
     "name": "stdout",
     "output_type": "stream",
     "text": [
      "Train Epoch: 29 [0/163 (0%)]\tLoss: 0.005792\n",
      "\n",
      "Test Epoch: 29\tAccuracy: 41/41 (100%)\n",
      "\n",
      "Train Epoch: 30 [0/163 (0%)]\tLoss: 0.004901\n",
      "\n",
      "Test Epoch: 30\tAccuracy: 41/41 (100%)\n",
      "\n",
      "Train Epoch: 31 [0/163 (0%)]\tLoss: 0.004875\n",
      "\n",
      "Test Epoch: 31\tAccuracy: 41/41 (100%)\n",
      "\n",
      "Train Epoch: 32 [0/163 (0%)]\tLoss: 0.003930\n",
      "\n",
      "Test Epoch: 32\tAccuracy: 41/41 (100%)\n",
      "\n",
      "Train Epoch: 33 [0/163 (0%)]\tLoss: 0.003319\n",
      "\n",
      "Test Epoch: 33\tAccuracy: 41/41 (100%)\n",
      "\n"
     ]
    },
    {
     "name": "stderr",
     "output_type": "stream",
     "text": [
      " 37%|█████████████████████████████▉                                                   | 37/100 [00:01<00:02, 23.15it/s]"
     ]
    },
    {
     "name": "stdout",
     "output_type": "stream",
     "text": [
      "Train Epoch: 34 [0/163 (0%)]\tLoss: 0.003242\n",
      "\n",
      "Test Epoch: 34\tAccuracy: 41/41 (100%)\n",
      "\n",
      "Train Epoch: 35 [0/163 (0%)]\tLoss: 0.002051\n",
      "\n",
      "Test Epoch: 35\tAccuracy: 41/41 (100%)\n",
      "\n",
      "Train Epoch: 36 [0/163 (0%)]\tLoss: 0.002330\n",
      "\n",
      "Test Epoch: 36\tAccuracy: 41/41 (100%)\n",
      "\n",
      "Train Epoch: 37 [0/163 (0%)]\tLoss: 0.001764\n",
      "\n",
      "Test Epoch: 37\tAccuracy: 41/41 (100%)\n",
      "\n",
      "Train Epoch: 38 [0/163 (0%)]\tLoss: 0.003227\n",
      "\n",
      "Test Epoch: 38\tAccuracy: 41/41 (100%)\n",
      "\n"
     ]
    },
    {
     "name": "stderr",
     "output_type": "stream",
     "text": [
      " 43%|██████████████████████████████████▊                                              | 43/100 [00:01<00:02, 23.77it/s]"
     ]
    },
    {
     "name": "stdout",
     "output_type": "stream",
     "text": [
      "Train Epoch: 39 [0/163 (0%)]\tLoss: 0.005052\n",
      "\n",
      "Test Epoch: 39\tAccuracy: 41/41 (100%)\n",
      "\n",
      "Train Epoch: 40 [0/163 (0%)]\tLoss: 0.002035\n",
      "\n",
      "Test Epoch: 40\tAccuracy: 41/41 (100%)\n",
      "\n",
      "Train Epoch: 41 [0/163 (0%)]\tLoss: 0.001462\n",
      "\n",
      "Test Epoch: 41\tAccuracy: 41/41 (100%)\n",
      "\n",
      "Train Epoch: 42 [0/163 (0%)]\tLoss: 0.001329\n",
      "\n",
      "Test Epoch: 42\tAccuracy: 41/41 (100%)\n",
      "\n",
      "Train Epoch: 43 [0/163 (0%)]\tLoss: 0.001271\n",
      "\n",
      "Test Epoch: 43\tAccuracy: 41/41 (100%)\n",
      "\n"
     ]
    },
    {
     "name": "stderr",
     "output_type": "stream",
     "text": [
      "\r",
      " 46%|█████████████████████████████████████▎                                           | 46/100 [00:02<00:02, 23.69it/s]"
     ]
    },
    {
     "name": "stdout",
     "output_type": "stream",
     "text": [
      "Train Epoch: 44 [0/163 (0%)]\tLoss: 0.001790\n",
      "\n",
      "Test Epoch: 44\tAccuracy: 41/41 (100%)\n",
      "\n",
      "Train Epoch: 45 [0/163 (0%)]\tLoss: 0.000851\n",
      "\n",
      "Test Epoch: 45\tAccuracy: 41/41 (100%)\n",
      "\n",
      "Train Epoch: 46 [0/163 (0%)]\tLoss: 0.001125\n",
      "\n",
      "Test Epoch: 46\tAccuracy: 41/41 (100%)\n",
      "\n",
      "Train Epoch: 47 [0/163 (0%)]\tLoss: 0.000872\n",
      "\n",
      "Test Epoch: 47\tAccuracy: 41/41 (100%)\n",
      "\n",
      "Train Epoch: 48 [0/163 (0%)]\tLoss: 0.000791\n",
      "\n",
      "Test Epoch: 48\tAccuracy: 41/41 (100%)\n",
      "\n"
     ]
    },
    {
     "name": "stderr",
     "output_type": "stream",
     "text": [
      " 52%|██████████████████████████████████████████                                       | 52/100 [00:02<00:01, 24.09it/s]"
     ]
    },
    {
     "name": "stdout",
     "output_type": "stream",
     "text": [
      "Train Epoch: 49 [0/163 (0%)]\tLoss: 0.001308\n",
      "\n",
      "Test Epoch: 49\tAccuracy: 41/41 (100%)\n",
      "\n",
      "Train Epoch: 50 [0/163 (0%)]\tLoss: 0.001100\n",
      "\n",
      "Test Epoch: 50\tAccuracy: 41/41 (100%)\n",
      "\n",
      "Train Epoch: 51 [0/163 (0%)]\tLoss: 0.000952\n",
      "\n",
      "Test Epoch: 51\tAccuracy: 41/41 (100%)\n",
      "\n",
      "Train Epoch: 52 [0/163 (0%)]\tLoss: 0.000768\n",
      "\n",
      "Test Epoch: 52\tAccuracy: 40/41 (98%)\n",
      "\n",
      "Train Epoch: 53 [0/163 (0%)]\tLoss: 0.001179\n",
      "\n",
      "Test Epoch: 53\tAccuracy: 40/41 (98%)\n",
      "\n"
     ]
    },
    {
     "name": "stderr",
     "output_type": "stream",
     "text": [
      "\r",
      " 55%|████████████████████████████████████████████▌                                    | 55/100 [00:02<00:01, 23.35it/s]"
     ]
    },
    {
     "name": "stdout",
     "output_type": "stream",
     "text": [
      "Train Epoch: 54 [0/163 (0%)]\tLoss: 0.001568\n",
      "\n",
      "Test Epoch: 54\tAccuracy: 40/41 (98%)\n",
      "\n",
      "Train Epoch: 55 [0/163 (0%)]\tLoss: 0.001682\n",
      "\n",
      "Test Epoch: 55\tAccuracy: 40/41 (98%)\n",
      "\n",
      "Train Epoch: 56 [0/163 (0%)]\tLoss: 0.002423\n",
      "\n",
      "Test Epoch: 56\tAccuracy: 40/41 (98%)\n",
      "\n",
      "Train Epoch: 57 [0/163 (0%)]\tLoss: 0.001526\n",
      "\n",
      "Test Epoch: 57\tAccuracy: 40/41 (98%)\n",
      "\n"
     ]
    },
    {
     "name": "stderr",
     "output_type": "stream",
     "text": [
      " 61%|█████████████████████████████████████████████████▍                               | 61/100 [00:02<00:01, 22.37it/s]"
     ]
    },
    {
     "name": "stdout",
     "output_type": "stream",
     "text": [
      "Train Epoch: 58 [0/163 (0%)]\tLoss: 0.000942\n",
      "\n",
      "Test Epoch: 58\tAccuracy: 40/41 (98%)\n",
      "\n",
      "Train Epoch: 59 [0/163 (0%)]\tLoss: 0.002315\n",
      "\n",
      "Test Epoch: 59\tAccuracy: 40/41 (98%)\n",
      "\n",
      "Train Epoch: 60 [0/163 (0%)]\tLoss: 0.004348\n",
      "\n",
      "Test Epoch: 60\tAccuracy: 40/41 (98%)\n",
      "\n",
      "Train Epoch: 61 [0/163 (0%)]\tLoss: 0.003184\n",
      "\n",
      "Test Epoch: 61\tAccuracy: 40/41 (98%)\n",
      "\n",
      "Train Epoch: 62 [0/163 (0%)]\tLoss: 0.002824"
     ]
    },
    {
     "name": "stderr",
     "output_type": "stream",
     "text": [
      "\r",
      " 64%|███████████████████████████████████████████████████▊                             | 64/100 [00:02<00:01, 22.05it/s]"
     ]
    },
    {
     "name": "stdout",
     "output_type": "stream",
     "text": [
      "\n",
      "\n",
      "Test Epoch: 62\tAccuracy: 40/41 (98%)\n",
      "\n",
      "Train Epoch: 63 [0/163 (0%)]\tLoss: 0.005822\n",
      "\n",
      "Test Epoch: 63\tAccuracy: 41/41 (100%)\n",
      "\n",
      "Train Epoch: 64 [0/163 (0%)]\tLoss: 0.002871\n",
      "\n",
      "Test Epoch: 64\tAccuracy: 41/41 (100%)\n",
      "\n",
      "Train Epoch: 65 [0/163 (0%)]\tLoss: 0.001714\n",
      "\n",
      "Test Epoch: 65\tAccuracy: 41/41 (100%)\n",
      "\n",
      "Train Epoch: 66 [0/163 (0%)]\tLoss: 0.002440\n"
     ]
    },
    {
     "name": "stderr",
     "output_type": "stream",
     "text": [
      " 70%|████████████████████████████████████████████████████████▋                        | 70/100 [00:03<00:01, 22.27it/s]"
     ]
    },
    {
     "name": "stdout",
     "output_type": "stream",
     "text": [
      "\n",
      "Test Epoch: 66\tAccuracy: 41/41 (100%)\n",
      "\n",
      "Train Epoch: 67 [0/163 (0%)]\tLoss: 0.004023\n",
      "\n",
      "Test Epoch: 67\tAccuracy: 41/41 (100%)\n",
      "\n",
      "Train Epoch: 68 [0/163 (0%)]\tLoss: 0.001642\n",
      "\n",
      "Test Epoch: 68\tAccuracy: 41/41 (100%)\n",
      "\n",
      "Train Epoch: 69 [0/163 (0%)]\tLoss: 0.000746\n",
      "\n",
      "Test Epoch: 69\tAccuracy: 41/41 (100%)\n",
      "\n",
      "Train Epoch: 70 [0/163 (0%)]\tLoss: 0.001524\n",
      "\n",
      "Test Epoch: 70\tAccuracy: 41/41 (100%)\n",
      "\n",
      "Train Epoch: 71 [0/163 (0%)]\tLoss: 0.001210\n"
     ]
    },
    {
     "name": "stderr",
     "output_type": "stream",
     "text": [
      "\r",
      " 73%|███████████████████████████████████████████████████████████▏                     | 73/100 [00:03<00:01, 21.98it/s]"
     ]
    },
    {
     "name": "stdout",
     "output_type": "stream",
     "text": [
      "\n",
      "Test Epoch: 71\tAccuracy: 41/41 (100%)\n",
      "\n",
      "Train Epoch: 72 [0/163 (0%)]\tLoss: 0.001141\n",
      "\n",
      "Test Epoch: 72\tAccuracy: 41/41 (100%)\n",
      "\n",
      "Train Epoch: 73 [0/163 (0%)]\tLoss: 0.003860\n",
      "\n",
      "Test Epoch: 73\tAccuracy: 41/41 (100%)\n",
      "\n",
      "Train Epoch: 74 [0/163 (0%)]\tLoss: 0.002599\n",
      "\n",
      "Test Epoch: 74\tAccuracy: 41/41 (100%)\n",
      "\n",
      "Train Epoch: 75 [0/163 (0%)]\tLoss: 0.001971\n",
      "\n",
      "Test Epoch: 75\tAccuracy: 41/41 (100%)\n",
      "\n"
     ]
    },
    {
     "name": "stderr",
     "output_type": "stream",
     "text": [
      " 79%|███████████████████████████████████████████████████████████████▉                 | 79/100 [00:03<00:00, 22.24it/s]"
     ]
    },
    {
     "name": "stdout",
     "output_type": "stream",
     "text": [
      "Train Epoch: 76 [0/163 (0%)]\tLoss: 0.001544\n",
      "\n",
      "Test Epoch: 76\tAccuracy: 41/41 (100%)\n",
      "\n",
      "Train Epoch: 77 [0/163 (0%)]\tLoss: 0.003303\n",
      "\n",
      "Test Epoch: 77\tAccuracy: 41/41 (100%)\n",
      "\n",
      "Train Epoch: 78 [0/163 (0%)]\tLoss: 0.003494\n",
      "\n",
      "Test Epoch: 78\tAccuracy: 41/41 (100%)\n",
      "\n",
      "Train Epoch: 79 [0/163 (0%)]\tLoss: 0.000654\n",
      "\n",
      "Test Epoch: 79\tAccuracy: 41/41 (100%)\n",
      "\n",
      "Train Epoch: 80 [0/163 (0%)]\tLoss: 0.001028\n",
      "\n",
      "Test Epoch: 80\tAccuracy: 41/41 (100%)\n",
      "\n"
     ]
    },
    {
     "name": "stderr",
     "output_type": "stream",
     "text": [
      "\r",
      " 82%|██████████████████████████████████████████████████████████████████▍              | 82/100 [00:03<00:00, 21.54it/s]"
     ]
    },
    {
     "name": "stdout",
     "output_type": "stream",
     "text": [
      "Train Epoch: 81 [0/163 (0%)]\tLoss: 0.000686\n",
      "\n",
      "Test Epoch: 81\tAccuracy: 41/41 (100%)\n",
      "\n",
      "Train Epoch: 82 [0/163 (0%)]\tLoss: 0.000714\n",
      "\n",
      "Test Epoch: 82\tAccuracy: 41/41 (100%)\n",
      "\n",
      "Train Epoch: 83 [0/163 (0%)]\tLoss: 0.000488\n",
      "\n",
      "Test Epoch: 83\tAccuracy: 41/41 (100%)\n",
      "\n",
      "Train Epoch: 84 [0/163 (0%)]\tLoss: 0.000929\n",
      "\n",
      "Test Epoch: 84\tAccuracy: 41/41 (100%)\n",
      "\n"
     ]
    },
    {
     "name": "stderr",
     "output_type": "stream",
     "text": [
      " 87%|██████████████████████████████████████████████████████████████████████▍          | 87/100 [00:04<00:00, 18.77it/s]"
     ]
    },
    {
     "name": "stdout",
     "output_type": "stream",
     "text": [
      "Train Epoch: 85 [0/163 (0%)]\tLoss: 0.000717\n",
      "\n",
      "Test Epoch: 85\tAccuracy: 41/41 (100%)\n",
      "\n",
      "Train Epoch: 86 [0/163 (0%)]\tLoss: 0.000465\n",
      "\n",
      "Test Epoch: 86\tAccuracy: 41/41 (100%)\n",
      "\n",
      "Train Epoch: 87 [0/163 (0%)]\tLoss: 0.000488\n",
      "\n",
      "Test Epoch: 87\tAccuracy: 41/41 (100%)\n",
      "\n",
      "Train Epoch: 88 [0/163 (0%)]\tLoss: 0.000529\n"
     ]
    },
    {
     "name": "stderr",
     "output_type": "stream",
     "text": [
      "\r",
      " 89%|████████████████████████████████████████████████████████████████████████         | 89/100 [00:04<00:00, 17.69it/s]"
     ]
    },
    {
     "name": "stdout",
     "output_type": "stream",
     "text": [
      "\n",
      "Test Epoch: 88\tAccuracy: 41/41 (100%)\n",
      "\n",
      "Train Epoch: 89 [0/163 (0%)]\tLoss: 0.000360\n",
      "\n",
      "Test Epoch: 89\tAccuracy: 41/41 (100%)\n",
      "\n",
      "Train Epoch: 90 [0/163 (0%)]\tLoss: 0.000390\n",
      "\n",
      "Test Epoch: 90\tAccuracy: 41/41 (100%)\n",
      "\n",
      "Train Epoch: 91 [0/163 (0%)]\tLoss: 0.000426\n",
      "\n",
      "Test Epoch: 91\tAccuracy: 41/41 (100%)\n",
      "\n"
     ]
    },
    {
     "name": "stderr",
     "output_type": "stream",
     "text": [
      " 93%|███████████████████████████████████████████████████████████████████████████▎     | 93/100 [00:04<00:00, 17.07it/s]"
     ]
    },
    {
     "name": "stdout",
     "output_type": "stream",
     "text": [
      "Train Epoch: 92 [0/163 (0%)]\tLoss: 0.000426\n",
      "\n",
      "Test Epoch: 92\tAccuracy: 41/41 (100%)\n",
      "\n",
      "Train Epoch: 93 [0/163 (0%)]\tLoss: 0.000402\n",
      "\n",
      "Test Epoch: 93\tAccuracy: 41/41 (100%)\n",
      "\n",
      "Train Epoch: 94 [0/163 (0%)]\tLoss: 0.000324\n",
      "\n",
      "Test Epoch: 94\tAccuracy: 41/41 (100%)\n",
      "\n",
      "Train Epoch: 95 [0/163 (0%)]\tLoss: 0.000306\n",
      "\n",
      "Test Epoch: 95\tAccuracy: 41/41 (100%)\n",
      "\n"
     ]
    },
    {
     "name": "stderr",
     "output_type": "stream",
     "text": [
      " 99%|████████████████████████████████████████████████████████████████████████████████▏| 99/100 [00:04<00:00, 20.09it/s]"
     ]
    },
    {
     "name": "stdout",
     "output_type": "stream",
     "text": [
      "Train Epoch: 96 [0/163 (0%)]\tLoss: 0.000280\n",
      "\n",
      "Test Epoch: 96\tAccuracy: 41/41 (100%)\n",
      "\n",
      "Train Epoch: 97 [0/163 (0%)]\tLoss: 0.000292\n",
      "\n",
      "Test Epoch: 97\tAccuracy: 41/41 (100%)\n",
      "\n",
      "Train Epoch: 98 [0/163 (0%)]\tLoss: 0.000316\n",
      "\n",
      "Test Epoch: 98\tAccuracy: 41/41 (100%)\n",
      "\n",
      "Train Epoch: 99 [0/163 (0%)]\tLoss: 0.000344\n",
      "\n",
      "Test Epoch: 99\tAccuracy: 41/41 (100%)\n",
      "\n",
      "Train Epoch: 100 [0/163 (0%)]\tLoss: 0.000302\n",
      "\n",
      "Test Epoch: 100\tAccuracy: 41/41 (100%)\n",
      "\n"
     ]
    },
    {
     "name": "stderr",
     "output_type": "stream",
     "text": [
      "100%|████████████████████████████████████████████████████████████████████████████████| 100/100 [00:04<00:00, 21.12it/s]\n"
     ]
    }
   ],
   "source": [
    "log_interval = 20\n",
    "n_epoch = 100\n",
    "\n",
    "losses = []\n",
    "accuracy=[]\n",
    "\n",
    "\n",
    "for epoch in tqdm(range(1, n_epoch + 1)):\n",
    "    train(model, epoch, log_interval)\n",
    "    accuracy+=[test(model, epoch)]\n",
    "    #if accuracy[-1]>0.97:\n",
    "        #break\n",
    "    scheduler.step()"
   ]
  },
  {
   "cell_type": "code",
   "execution_count": 9,
   "metadata": {},
   "outputs": [
    {
     "name": "stdout",
     "output_type": "stream",
     "text": [
      "[1.00000000e+00 5.97747339e-01 4.18625162e-01 4.14489660e-01\n",
      " 3.49772831e-01 2.78144227e-01 2.31915836e-01 1.86144366e-01\n",
      " 1.73030921e-01 1.38035134e-01 8.98981494e-02 8.54250482e-02\n",
      " 5.99585780e-02 4.39295824e-02 4.16241263e-02 2.65498023e-02\n",
      " 2.68987192e-02 2.44468931e-02 9.59847014e-03 1.03059858e-02\n",
      " 8.45859014e-03 7.12397054e-03 7.90819233e-03 4.61652143e-03\n",
      " 5.42231060e-03 4.48941651e-03 1.92677282e-03 7.09580089e-03\n",
      " 2.27635015e-03 1.92614858e-03 1.91573493e-03 1.54460340e-03\n",
      " 1.30431972e-03 1.27424786e-03 8.05943995e-04 9.15576299e-04\n",
      " 6.93280128e-04 1.26830021e-03 1.98529928e-03 7.99765207e-04\n",
      " 5.74762088e-04 5.22149057e-04 4.99587386e-04 7.03553996e-04\n",
      " 3.34586125e-04 4.41974565e-04 3.42800672e-04 3.10903678e-04\n",
      " 5.14050997e-04 4.32126150e-04 3.74272671e-04 3.01726384e-04\n",
      " 4.63219707e-04 6.16276790e-04 6.60937710e-04 9.52346143e-04\n",
      " 5.99640895e-04 3.70120445e-04 9.09842226e-04 1.70862934e-03\n",
      " 1.25140408e-03 1.10982333e-03 2.28817005e-03 1.12828713e-03\n",
      " 6.73810459e-04 9.59126302e-04 1.58116224e-03 6.45147505e-04\n",
      " 2.93293254e-04 5.99100283e-04 4.75471274e-04 4.48457012e-04\n",
      " 1.51709717e-03 1.02145241e-03 7.74564714e-04 6.06758982e-04\n",
      " 1.29793925e-03 1.37327949e-03 2.57109614e-04 4.03873963e-04\n",
      " 2.69505530e-04 2.80715747e-04 1.91901782e-04 3.65263265e-04\n",
      " 2.81914898e-04 1.82874716e-04 1.91752731e-04 2.07771047e-04\n",
      " 1.41385098e-04 1.53268917e-04 1.67580720e-04 1.67243627e-04\n",
      " 1.58172810e-04 1.27531712e-04 1.20126162e-04 1.10036288e-04\n",
      " 1.14692157e-04 1.24171909e-04 1.35250541e-04 1.18668646e-04]\n",
      "100\n"
     ]
    }
   ],
   "source": [
    "losses=np.array(losses)/max(losses)\n",
    "print(losses)\n",
    "print(len(losses))"
   ]
  },
  {
   "cell_type": "code",
   "execution_count": 10,
   "metadata": {},
   "outputs": [
    {
     "name": "stdout",
     "output_type": "stream",
     "text": [
      "[0.07317073170731707, 0.07317073170731707, 0.17073170731707318, 0.17073170731707318, 0.17073170731707318, 0.17073170731707318, 0.17073170731707318, 0.17073170731707318, 0.17073170731707318, 0.21951219512195122, 0.43902439024390244, 0.4634146341463415, 0.5365853658536586, 0.5609756097560976, 0.5609756097560976, 0.5853658536585366, 0.6341463414634146, 0.7804878048780488, 0.8048780487804879, 0.8780487804878049, 0.9512195121951219, 0.975609756097561, 0.975609756097561, 0.975609756097561, 0.975609756097561, 0.975609756097561, 0.975609756097561, 1.0, 1.0, 1.0, 1.0, 1.0, 1.0, 1.0, 1.0, 1.0, 1.0, 1.0, 1.0, 1.0, 1.0, 1.0, 1.0, 1.0, 1.0, 1.0, 1.0, 1.0, 1.0, 1.0, 1.0, 0.975609756097561, 0.975609756097561, 0.975609756097561, 0.975609756097561, 0.975609756097561, 0.975609756097561, 0.975609756097561, 0.975609756097561, 0.975609756097561, 0.975609756097561, 0.975609756097561, 1.0, 1.0, 1.0, 1.0, 1.0, 1.0, 1.0, 1.0, 1.0, 1.0, 1.0, 1.0, 1.0, 1.0, 1.0, 1.0, 1.0, 1.0, 1.0, 1.0, 1.0, 1.0, 1.0, 1.0, 1.0, 1.0, 1.0, 1.0, 1.0, 1.0, 1.0, 1.0, 1.0, 1.0, 1.0, 1.0, 1.0, 1.0]\n"
     ]
    }
   ],
   "source": [
    "print(accuracy)"
   ]
  },
  {
   "cell_type": "code",
   "execution_count": 11,
   "metadata": {},
   "outputs": [
    {
     "data": {
      "image/png": "[encoded data removed]",
      "text/plain": [
       "<Figure size 432x288 with 1 Axes>"
      ]
     },
     "metadata": {
      "needs_background": "light"
     },
     "output_type": "display_data"
    }
   ],
   "source": [
    "plt.figure()\n",
    "plt.plot(range(len(losses)),losses,label='Loss', color='red')\n",
    "plt.plot(range(len(accuracy)),accuracy,label='Accuracy', color='blue')\n",
    "plt.xlabel('Epoch')\n",
    "plt.ylabel('Loss/Accuracy')\n",
    "plt.legend(loc='upper right')\n",
    "plt.show()\n",
    "df=np.array([accuracy,losses])\n",
    "df=df.T\n",
    "df=pd.DataFrame(df,columns=[\"accuracy\",\"loss\"])\n",
    "df.to_csv(\"result_selfts.csv\")\n",
    "def save_model(net, path):\n",
    "    torch.save(net, path)\n",
    "save_model(model, \"1dcnn_Adam_RLR.pkl\")"
   ]
  },
  {
   "cell_type": "code",
   "execution_count": 13,
   "metadata": {},
   "outputs": [
    {
     "name": "stdout",
     "output_type": "stream",
     "text": [
      "\n",
      "Test Epoch: 2\tAccuracy: 41/41 (100%)\n",
      "\n",
      "[3, 6, 2, 1, 6, 5, 6, 4, 1, 6, 2, 7, 0, 5, 4, 2, 2, 9, 7, 3, 4, 1, 8, 9, 1, 0, 7, 7, 4, 0, 4, 7, 8, 9, 8, 2, 7, 0, 7, 7, 5]\n",
      "41\n",
      "[3, 6, 2, 1, 6, 5, 6, 4, 1, 6, 2, 7, 0, 5, 4, 2, 2, 9, 7, 3, 4, 1, 8, 9, 1, 0, 7, 7, 4, 0, 4, 7, 8, 9, 8, 2, 7, 0, 7, 7, 5]\n"
     ]
    }
   ],
   "source": [
    "def myonetest(model, epoch):\n",
    "    model.eval().cpu()\n",
    "    correct = 0\n",
    "    onepredict=[]\n",
    "    onetarget=[]\n",
    "    for data, target in testloader:\n",
    "        \n",
    "        data = data.to(torch.float32)\n",
    "        \n",
    "        # apply transform and model on whole batch directly on device\n",
    "        output = model(data)\n",
    "        \n",
    "        pred = get_likely_index(output)\n",
    "        correct += number_of_correct(pred, target)   \n",
    "        # update progress bar\n",
    "        #pbar.update(pbar_update)\n",
    "        pred=list(pred.squeeze().numpy())\n",
    "        target=list(target.squeeze().numpy())\n",
    "        onepredict += pred\n",
    "        onetarget+=target\n",
    "    print(f\"\\nTest Epoch: {epoch}\\tAccuracy: {correct}/{len(testloader.dataset)} ({100. * correct / len(testloader.dataset):.0f}%)\\n\")\n",
    "    return (correct/(len(testloader.dataset)),onepredict,onetarget)\n",
    "_,onepredict,onetarget=myonetest(model,2)\n",
    "print(onepredict)\n",
    "print(len(onepredict))\n",
    "print(onetarget)"
   ]
  },
  {
   "cell_type": "code",
   "execution_count": 14,
   "metadata": {},
   "outputs": [
    {
     "name": "stdout",
     "output_type": "stream",
     "text": [
      "[[4 0 0 0 0 0 0 0 0 0]\n",
      " [0 4 0 0 0 0 0 0 0 0]\n",
      " [0 0 5 0 0 0 0 0 0 0]\n",
      " [0 0 0 2 0 0 0 0 0 0]\n",
      " [0 0 0 0 5 0 0 0 0 0]\n",
      " [0 0 0 0 0 3 0 0 0 0]\n",
      " [0 0 0 0 0 0 4 0 0 0]\n",
      " [0 0 0 0 0 0 0 8 0 0]\n",
      " [0 0 0 0 0 0 0 0 3 0]\n",
      " [0 0 0 0 0 0 0 0 0 3]]\n",
      "[['4' '0' '0' '0' '0' '0' '0' '0' '0' '0']\n",
      " ['0' '4' '0' '0' '0' '0' '0' '0' '0' '0']\n",
      " ['0' '0' '5' '0' '0' '0' '0' '0' '0' '0']\n",
      " ['0' '0' '0' '2' '0' '0' '0' '0' '0' '0']\n",
      " ['0' '0' '0' '0' '5' '0' '0' '0' '0' '0']\n",
      " ['0' '0' '0' '0' '0' '3' '0' '0' '0' '0']\n",
      " ['0' '0' '0' '0' '0' '0' '4' '0' '0' '0']\n",
      " ['0' '0' '0' '0' '0' '0' '0' '8' '0' '0']\n",
      " ['0' '0' '0' '0' '0' '0' '0' '0' '3' '0']\n",
      " ['0' '0' '0' '0' '0' '0' '0' '0' '0' '3']]\n"
     ]
    },
    {
     "data": {
      "image/png": "[encoded data removed]",
      "text/plain": [
       "<Figure size 864x576 with 2 Axes>"
      ]
     },
     "metadata": {},
     "output_type": "display_data"
    }
   ],
   "source": [
    "def myConfusionMatrixHeatmap(y_pred,y_true):\n",
    "    import numpy\n",
    "    import seaborn as sns\n",
    "    from sklearn.metrics import confusion_matrix\n",
    "    import matplotlib.pyplot as plt\n",
    "    \n",
    "    \n",
    "    sns.set({'figure.figsize': [12,8]})\n",
    "    f, ax = plt.subplots()\n",
    "    C2 = confusion_matrix(y_true, y_pred, labels=[0, 1, 2, 3, 4, 5, 6, 7, 8, 9])\n",
    "    #C2_Acc=C2/20*100\n",
    "    annot=numpy.zeros(C2.shape).astype(int).astype(str)\n",
    "    trueSum=0\n",
    "    for i in range(10):\n",
    "        trueSum+=C2[i][i];\n",
    "        for j in range(10):\n",
    "            if(C2[i][j]!=0):\n",
    "                annot[i][j]=\"{}\".format(C2[i][j])\n",
    "    \n",
    "    print(C2)\n",
    "    print(annot)\n",
    "    sns.heatmap(C2, annot=annot, fmt=\"\", ax=ax, cmap=\"hot_r\")  \n",
    "    \n",
    "    ax.set_title('Accuracy {:.1f}%'.format(trueSum/(dataset_len-trainset_len)*100)) \n",
    "    ax.set_xlabel('Predict label')  \n",
    "    ax.set_ylabel('True label')  \n",
    "    plt.show()\n",
    "    \n",
    "myConfusionMatrixHeatmap(onepredict,onetarget)"
   ]
  }
 ],
 "metadata": {
  "kernelspec": {
   "display_name": "Python 3 (ipykernel)",
   "language": "python",
   "name": "python3"
  },
  "language_info": {
   "codemirror_mode": {
    "name": "ipython",
    "version": 3
   },
   "file_extension": ".py",
   "mimetype": "text/x-python",
   "name": "python",
   "nbconvert_exporter": "python",
   "pygments_lexer": "ipython3",
   "version": "3.8.2"
  }
 },
 "nbformat": 4,
 "nbformat_minor": 2
}
