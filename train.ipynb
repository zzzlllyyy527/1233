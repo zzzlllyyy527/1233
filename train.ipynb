{
 "cells": [
  {
   "cell_type": "code",
   "execution_count": 1,
   "metadata": {},
   "outputs": [],
   "source": [
    "import torch\n",
    "import torch.nn as nn\n",
    "import torch.optim as optim\n",
    "import torch.nn.functional as F\n",
    "from torch.utils.data import Dataset,DataLoader\n",
    "from torchsummary import summary\n",
    "import numpy as np\n",
    "import pandas as pd\n",
    "import re\n",
    "import glob\n",
    "import os \n",
    "import sys\n",
    "import matplotlib.pyplot as plt\n",
    "from tqdm import tqdm\n",
    "\n",
    "device =torch.device(\"cuda:0\" if torch.cuda.is_available() else \"cpu\")# 'cuda:0'"
   ]
  },
  {
   "cell_type": "code",
   "execution_count": 2,
   "metadata": {},
   "outputs": [],
   "source": [
    "# build the dataset\n",
    "class MyDataset(Dataset):\n",
    "    def __init__(self,root_dir):\n",
    "        self.root_dir=root_dir\n",
    "        \n",
    "        self.filenames=sorted(glob.glob(os.path.abspath(\"{root}/*.csv\".format(root=root_dir))))\n",
    "        self.waveforms=self.getwaveforms(self.filenames)\n",
    "        \n",
    "    def getwaveforms(self,files):\n",
    "        files_num=len(files)\n",
    "        waveforms=[]\n",
    "        print(\"building the dataset...\")\n",
    "        for i in tqdm(range(files_num)):\n",
    "            waveforms.append(torch.tensor([pd.read_csv(files[i]).iloc[:,0].values]).to(torch.float32))\n",
    "#         waveforms=torch.tensor(waveforms).to(torch.float32)\n",
    "        return waveforms\n",
    "    \n",
    "    def __len__(self):\n",
    "        return len(self.filenames)\n",
    "    \n",
    "    def __getitem__(self,idx):\n",
    "        label=re.findall(r\"\\\\\\d+-\",self.filenames[idx])#re.findall(r\"/\\d+-\",self.filenames[idx])\n",
    "        return self.waveforms[idx],int(label[0][1:-1])"
   ]
  },
  {
   "cell_type": "code",
   "execution_count": 3,
   "metadata": {},
   "outputs": [
    {
     "name": "stdout",
     "output_type": "stream",
     "text": [
      "building the dataset...\n"
     ]
    },
    {
     "name": "stderr",
     "output_type": "stream",
     "text": [
      "  0%|                                                                                          | 0/200 [00:00<?, ?it/s]C:\\Users\\Administrator\\AppData\\Local\\Temp\\ipykernel_32896\\1325889612.py:14: UserWarning: Creating a tensor from a list of numpy.ndarrays is extremely slow. Please consider converting the list to a single numpy.ndarray with numpy.array() before converting to a tensor. (Triggered internally at  C:\\actions-runner\\_work\\pytorch\\pytorch\\builder\\windows\\pytorch\\torch\\csrc\\utils\\tensor_new.cpp:210.)\n",
      "  waveforms.append(torch.tensor([pd.read_csv(files[i]).iloc[:,0].values]).to(torch.float32))\n",
      "100%|███████████████████████████████████████████████████████████████████████████████| 200/200 [00:00<00:00, 502.51it/s]\n"
     ]
    }
   ],
   "source": [
    "dataset=MyDataset(\"F:/Python/data processing/TDC\")\n",
    "dataset_len=len(dataset)\n",
    "trainset_len=int(0.95*dataset_len)\n",
    "trainset,testset=torch.utils.data.random_split(dataset,[trainset_len,dataset_len-trainset_len])\n",
    "def pad_sequence(batch):\n",
    "    batch=[item.t() for item in batch]\n",
    "    batch=torch.nn.utils.rnn.pad_sequence(batch,batch_first=True,padding_value=0.)\n",
    "    return batch.permute(0,2,1)\n",
    "\n",
    "def collate_fn(batch):\n",
    "    tensors,targets=[],[]\n",
    "    for waveform,label in batch:\n",
    "        tensors+=[waveform]\n",
    "        targets+=[torch.tensor(label)]\n",
    "    tensors=pad_sequence(tensors)\n",
    "    targets=torch.stack(targets)\n",
    "    return tensors,targets\n",
    "\n",
    "batch_size=64\n",
    "trainloader=DataLoader(trainset,batch_size=batch_size,shuffle=True,collate_fn=collate_fn)\n",
    "testloader=DataLoader(testset,batch_size=batch_size,shuffle=True,collate_fn=collate_fn)"
   ]
  },
  {
   "cell_type": "code",
   "execution_count": 4,
   "metadata": {},
   "outputs": [
    {
     "name": "stdout",
     "output_type": "stream",
     "text": [
      "----------------------------------------------------------------\n",
      "        Layer (type)               Output Shape         Param #\n",
      "================================================================\n",
      "            Conv1d-1              [-1, 8, 1996]              48\n",
      "       BatchNorm1d-2              [-1, 8, 1996]              16\n",
      "         MaxPool1d-3               [-1, 8, 499]               0\n",
      "            Conv1d-4              [-1, 16, 497]             400\n",
      "       BatchNorm1d-5              [-1, 16, 497]              32\n",
      "         MaxPool1d-6              [-1, 16, 124]               0\n",
      "            Conv1d-7              [-1, 32, 122]           1,568\n",
      "       BatchNorm1d-8              [-1, 32, 122]              64\n",
      "         MaxPool1d-9               [-1, 32, 30]               0\n",
      "           Conv1d-10               [-1, 64, 28]           6,208\n",
      "      BatchNorm1d-11               [-1, 64, 28]             128\n",
      "        MaxPool1d-12                [-1, 64, 7]               0\n",
      "           Linear-13                [-1, 1, 10]             650\n",
      "================================================================\n",
      "Total params: 9,114\n",
      "Trainable params: 9,114\n",
      "Non-trainable params: 0\n",
      "----------------------------------------------------------------\n",
      "Input size (MB): 0.01\n",
      "Forward/backward pass size (MB): 0.51\n",
      "Params size (MB): 0.03\n",
      "Estimated Total Size (MB): 0.55\n",
      "----------------------------------------------------------------\n",
      "M(\n",
      "  (conv1): Conv1d(1, 8, kernel_size=(5,), stride=(1,))\n",
      "  (bn1): BatchNorm1d(8, eps=1e-05, momentum=0.1, affine=True, track_running_stats=True)\n",
      "  (pool1): MaxPool1d(kernel_size=4, stride=4, padding=0, dilation=1, ceil_mode=False)\n",
      "  (conv2): Conv1d(8, 16, kernel_size=(3,), stride=(1,))\n",
      "  (bn2): BatchNorm1d(16, eps=1e-05, momentum=0.1, affine=True, track_running_stats=True)\n",
      "  (pool2): MaxPool1d(kernel_size=4, stride=4, padding=0, dilation=1, ceil_mode=False)\n",
      "  (conv3): Conv1d(16, 32, kernel_size=(3,), stride=(1,))\n",
      "  (bn3): BatchNorm1d(32, eps=1e-05, momentum=0.1, affine=True, track_running_stats=True)\n",
      "  (pool3): MaxPool1d(kernel_size=4, stride=4, padding=0, dilation=1, ceil_mode=False)\n",
      "  (conv4): Conv1d(32, 64, kernel_size=(3,), stride=(1,))\n",
      "  (bn4): BatchNorm1d(64, eps=1e-05, momentum=0.1, affine=True, track_running_stats=True)\n",
      "  (pool4): MaxPool1d(kernel_size=4, stride=4, padding=0, dilation=1, ceil_mode=False)\n",
      "  (fc1): Linear(in_features=64, out_features=10, bias=True)\n",
      ")\n",
      "Number of parameters: 9114\n"
     ]
    }
   ],
   "source": [
    "# define the model\n",
    "class M(nn.Module):\n",
    "    def __init__(self, n_input=1, n_output=35, stride=1):\n",
    "        super().__init__()\n",
    "        self.conv1 = nn.Conv1d(n_input, 8, kernel_size=5, stride=stride)\n",
    "        self.bn1 = nn.BatchNorm1d(8)\n",
    "        self.pool1 = nn.MaxPool1d(4)\n",
    "        self.conv2 = nn.Conv1d(8, 16, kernel_size=3)\n",
    "        self.bn2 = nn.BatchNorm1d(16)\n",
    "        self.pool2 = nn.MaxPool1d(4)\n",
    "        self.conv3 = nn.Conv1d(16, 32, kernel_size=3)\n",
    "        self.bn3 = nn.BatchNorm1d(32)\n",
    "        self.pool3 = nn.MaxPool1d(4)\n",
    "        self.conv4 = nn.Conv1d(32, 64, kernel_size=3)\n",
    "        self.bn4 = nn.BatchNorm1d(64)\n",
    "        self.pool4 = nn.MaxPool1d(4)\n",
    "#         self.conv5 = nn.Conv1d(64, 128, kernel_size=3)\n",
    "#         self.bn5 = nn.BatchNorm1d(128)\n",
    "#         self.pool5 = nn.MaxPool1d(4)\n",
    "        self.fc1 = nn.Linear(64, n_output)\n",
    "\n",
    "    def forward(self, x):\n",
    "        x = self.conv1(x)\n",
    "        x = F.relu(self.bn1(x))\n",
    "        x = self.pool1(x)\n",
    "        x = self.conv2(x)\n",
    "        x = F.relu(self.bn2(x))\n",
    "        x = self.pool2(x)\n",
    "        x = self.conv3(x)\n",
    "        x = F.relu(self.bn3(x))\n",
    "        x = self.pool3(x)\n",
    "        x = self.conv4(x)\n",
    "        x = F.relu(self.bn4(x))\n",
    "        x = self.pool4(x)\n",
    "#         x = self.conv5(x)\n",
    "#         x = F.relu(self.bn5(x))\n",
    "#         x = self.pool5(x)\n",
    "        x = F.avg_pool1d(x, x.shape[-1])\n",
    "        x = x.permute(0, 2, 1)\n",
    "        x = self.fc1(x)\n",
    "        return F.log_softmax(x, dim=2)\n",
    "\n",
    "model = M(n_input=1, n_output=10)\n",
    "model=model.to(device)\n",
    "summary(model,(1,2000))\n",
    "\n",
    "print(model)\n",
    "def count_parameters(model):\n",
    "    return sum(p.numel() for p in model.parameters() if p.requires_grad)\n",
    "    \n",
    "n = count_parameters(model)\n",
    "print(\"Number of parameters: %s\" % n)"
   ]
  },
  {
   "cell_type": "code",
   "execution_count": 5,
   "metadata": {},
   "outputs": [],
   "source": [
    "# define the optimizer\n",
    "# optimizer = optim.SGD(model.parameters(), lr=0.1, weight_decay=0.0001)\n",
    "optimizer = optim.Adam(model.parameters(), lr=0.1, weight_decay=0.0001)\n",
    "scheduler = optim.lr_scheduler.StepLR(optimizer, step_size=10, gamma=0.5) \n",
    "# scheduler = optim.lr_scheduler.OneCycleLR(optimizer, max_lr=0.12, total_steps=1000)"
   ]
  },
  {
   "cell_type": "code",
   "execution_count": 6,
   "metadata": {},
   "outputs": [],
   "source": [
    "def train(model,epoch,log_interval):\n",
    "    model.train()\n",
    "    for batch_idx, (data, target) in enumerate(trainloader):\n",
    "        data=data.to(device).to(torch.float32)\n",
    "        target=target.to(device)\n",
    "        output = model(data)\n",
    "        loss = F.nll_loss(output.squeeze(), target)\n",
    "\n",
    "        optimizer.zero_grad()\n",
    "        loss.backward()\n",
    "        optimizer.step()\n",
    "        \n",
    "        if batch_idx % log_interval == 0:\n",
    "            print(f\"\\tLoss: {loss.item():.6f}\")\n",
    "            losses.append(loss.item())"
   ]
  },
  {
   "cell_type": "code",
   "execution_count": 7,
   "metadata": {},
   "outputs": [],
   "source": [
    "def number_of_correct(pred, target):\n",
    "#     count number of correct predictions\n",
    "    return pred.squeeze().eq(target).sum().item()\n",
    "\n",
    "\n",
    "def get_likely_index(tensor):\n",
    "#     find most likely label index for each element in the batch\n",
    "    return tensor.argmax(dim=-1)\n",
    "\n",
    "\n",
    "def test(model, epoch):\n",
    "    model.eval()\n",
    "    correct = 0\n",
    "    for data, target in trainloader:\n",
    "\n",
    "        data = data.to(torch.float32).to(device)\n",
    "        target=target.to(device)\n",
    "#         apply transform and model on whole batch directly on device\n",
    "        output = model(data)\n",
    "\n",
    "        pred = get_likely_index(output)\n",
    "        correct += number_of_correct(pred, target)   \n",
    "  \n",
    "\n",
    "    print(f\"\\nTest Epoch: {epoch}\\tAccuracy: {correct}/{len(trainloader.dataset)} ({100. * correct / len(trainloader.dataset):.0f}%)\\n\")\n",
    "    return correct/(len(trainloader.dataset))"
   ]
  },
  {
   "cell_type": "code",
   "execution_count": 8,
   "metadata": {},
   "outputs": [
    {
     "name": "stderr",
     "output_type": "stream",
     "text": [
      "  0%|▍                                                                                 | 1/200 [00:00<00:19, 10.00it/s]"
     ]
    },
    {
     "name": "stdout",
     "output_type": "stream",
     "text": [
      "\tLoss: 2.371318\n",
      "\n",
      "Test Epoch: 1\tAccuracy: 19/190 (10%)\n",
      "\n",
      "\tLoss: 3.880647\n"
     ]
    },
    {
     "name": "stderr",
     "output_type": "stream",
     "text": [
      "\r",
      "  1%|▊                                                                                 | 2/200 [00:00<00:19,  9.94it/s]"
     ]
    },
    {
     "name": "stdout",
     "output_type": "stream",
     "text": [
      "\n",
      "Test Epoch: 2\tAccuracy: 18/190 (9%)\n",
      "\n",
      "\tLoss: 2.559546\n"
     ]
    },
    {
     "name": "stderr",
     "output_type": "stream",
     "text": [
      "\r",
      "  2%|█▋                                                                                | 4/200 [00:00<00:18, 10.40it/s]"
     ]
    },
    {
     "name": "stdout",
     "output_type": "stream",
     "text": [
      "\n",
      "Test Epoch: 3\tAccuracy: 18/190 (9%)\n",
      "\n",
      "\tLoss: 2.420722\n",
      "\n",
      "Test Epoch: 4\tAccuracy: 18/190 (9%)\n",
      "\n",
      "\tLoss: 2.269184\n",
      "\n",
      "Test Epoch: 5\tAccuracy: 18/190 (9%)\n",
      "\n"
     ]
    },
    {
     "name": "stderr",
     "output_type": "stream",
     "text": [
      "\r",
      "  3%|██▍                                                                               | 6/200 [00:00<00:18, 10.67it/s]"
     ]
    },
    {
     "name": "stdout",
     "output_type": "stream",
     "text": [
      "\tLoss: 2.337837\n",
      "\n",
      "Test Epoch: 6\tAccuracy: 19/190 (10%)\n",
      "\n",
      "\tLoss: 2.328247\n",
      "\n",
      "Test Epoch: 7\tAccuracy: 16/190 (8%)\n",
      "\n",
      "\tLoss: 2.313214\n"
     ]
    },
    {
     "name": "stderr",
     "output_type": "stream",
     "text": [
      "\r",
      "  4%|███▎                                                                              | 8/200 [00:00<00:17, 10.99it/s]"
     ]
    },
    {
     "name": "stdout",
     "output_type": "stream",
     "text": [
      "\n",
      "Test Epoch: 8\tAccuracy: 18/190 (9%)\n",
      "\n",
      "\tLoss: 2.281664\n",
      "\n",
      "Test Epoch: 9\tAccuracy: 22/190 (12%)\n",
      "\n",
      "\tLoss: 2.279629\n",
      "\n",
      "Test Epoch: 10\tAccuracy: 27/190 (14%)\n"
     ]
    },
    {
     "name": "stderr",
     "output_type": "stream",
     "text": [
      "  6%|████▊                                                                            | 12/200 [00:01<00:17, 11.02it/s]"
     ]
    },
    {
     "name": "stdout",
     "output_type": "stream",
     "text": [
      "\n",
      "\tLoss: 2.251906\n",
      "\n",
      "Test Epoch: 11\tAccuracy: 28/190 (15%)\n",
      "\n",
      "\tLoss: 2.258118\n",
      "\n",
      "Test Epoch: 12\tAccuracy: 39/190 (21%)\n",
      "\n",
      "\tLoss: 2.219642\n"
     ]
    },
    {
     "name": "stderr",
     "output_type": "stream",
     "text": [
      "\r",
      "  7%|█████▋                                                                           | 14/200 [00:01<00:16, 11.29it/s]"
     ]
    },
    {
     "name": "stdout",
     "output_type": "stream",
     "text": [
      "\n",
      "Test Epoch: 13\tAccuracy: 21/190 (11%)\n",
      "\n",
      "\tLoss: 2.216341\n",
      "\n",
      "Test Epoch: 14\tAccuracy: 22/190 (12%)\n",
      "\n",
      "\tLoss: 2.184101\n",
      "\n",
      "Test Epoch: 15\tAccuracy: 30/190 (16%)\n",
      "\n",
      "\tLoss: 2.079342\n"
     ]
    },
    {
     "name": "stderr",
     "output_type": "stream",
     "text": [
      "  9%|███████▎                                                                         | 18/200 [00:01<00:15, 11.53it/s]"
     ]
    },
    {
     "name": "stdout",
     "output_type": "stream",
     "text": [
      "\n",
      "Test Epoch: 16\tAccuracy: 31/190 (16%)\n",
      "\n",
      "\tLoss: 2.090331\n",
      "\n",
      "Test Epoch: 17\tAccuracy: 33/190 (17%)\n",
      "\n",
      "\tLoss: 2.155551\n",
      "\n",
      "Test Epoch: 18\tAccuracy: 32/190 (17%)\n",
      "\n",
      "\tLoss: 2.067501\n"
     ]
    },
    {
     "name": "stderr",
     "output_type": "stream",
     "text": [
      "\r",
      " 10%|████████                                                                         | 20/200 [00:01<00:15, 11.64it/s]"
     ]
    },
    {
     "name": "stdout",
     "output_type": "stream",
     "text": [
      "\n",
      "Test Epoch: 19\tAccuracy: 28/190 (15%)\n",
      "\n",
      "\tLoss: 2.033497\n",
      "\n",
      "Test Epoch: 20\tAccuracy: 25/190 (13%)\n",
      "\n",
      "\tLoss: 2.026175\n",
      "\n",
      "Test Epoch: 21\tAccuracy: 34/190 (18%)\n",
      "\n",
      "\tLoss: 1.975467\n"
     ]
    },
    {
     "name": "stderr",
     "output_type": "stream",
     "text": [
      " 12%|█████████▋                                                                       | 24/200 [00:02<00:15, 11.47it/s]"
     ]
    },
    {
     "name": "stdout",
     "output_type": "stream",
     "text": [
      "\n",
      "Test Epoch: 22\tAccuracy: 46/190 (24%)\n",
      "\n",
      "\tLoss: 1.935547\n",
      "\n",
      "Test Epoch: 23\tAccuracy: 48/190 (25%)\n",
      "\n",
      "\tLoss: 1.907253\n",
      "\n",
      "Test Epoch: 24\tAccuracy: 26/190 (14%)\n",
      "\n"
     ]
    },
    {
     "name": "stderr",
     "output_type": "stream",
     "text": [
      "\r",
      " 13%|██████████▌                                                                      | 26/200 [00:02<00:15, 11.09it/s]"
     ]
    },
    {
     "name": "stdout",
     "output_type": "stream",
     "text": [
      "\tLoss: 1.936427\n",
      "\n",
      "Test Epoch: 25\tAccuracy: 23/190 (12%)\n",
      "\n",
      "\tLoss: 1.911648\n",
      "\n",
      "Test Epoch: 26\tAccuracy: 31/190 (16%)\n",
      "\n",
      "\tLoss: 1.793892\n"
     ]
    },
    {
     "name": "stderr",
     "output_type": "stream",
     "text": [
      "\r",
      " 14%|███████████▎                                                                     | 28/200 [00:02<00:15, 10.91it/s]"
     ]
    },
    {
     "name": "stdout",
     "output_type": "stream",
     "text": [
      "\n",
      "Test Epoch: 27\tAccuracy: 27/190 (14%)\n",
      "\n",
      "\tLoss: 1.841547\n",
      "\n",
      "Test Epoch: 28\tAccuracy: 25/190 (13%)\n",
      "\n",
      "\tLoss: 1.778048\n",
      "\n",
      "Test Epoch: 29\tAccuracy: 42/190 (22%)\n",
      "\n"
     ]
    },
    {
     "name": "stderr",
     "output_type": "stream",
     "text": [
      "\r",
      " 15%|████████████▏                                                                    | 30/200 [00:02<00:15, 10.78it/s]"
     ]
    },
    {
     "name": "stdout",
     "output_type": "stream",
     "text": [
      "\tLoss: 1.847929\n",
      "\n",
      "Test Epoch: 30\tAccuracy: 66/190 (35%)\n",
      "\n",
      "\tLoss: 1.636639\n",
      "\n",
      "Test Epoch: 31\tAccuracy: 55/190 (29%)\n",
      "\n",
      "\tLoss: 1.808416\n"
     ]
    },
    {
     "name": "stderr",
     "output_type": "stream",
     "text": [
      "\r",
      " 16%|████████████▉                                                                    | 32/200 [00:02<00:15, 10.91it/s]"
     ]
    },
    {
     "name": "stdout",
     "output_type": "stream",
     "text": [
      "\n",
      "Test Epoch: 32\tAccuracy: 69/190 (36%)\n",
      "\n",
      "\tLoss: 1.631963\n",
      "\n",
      "Test Epoch: 33\tAccuracy: 39/190 (21%)\n",
      "\n",
      "\tLoss: 1.687625\n",
      "\n",
      "Test Epoch: 34\tAccuracy: 48/190 (25%)\n",
      "\n"
     ]
    },
    {
     "name": "stderr",
     "output_type": "stream",
     "text": [
      " 18%|██████████████▌                                                                  | 36/200 [00:03<00:14, 11.24it/s]"
     ]
    },
    {
     "name": "stdout",
     "output_type": "stream",
     "text": [
      "\tLoss: 1.628723\n",
      "\n",
      "Test Epoch: 35\tAccuracy: 92/190 (48%)\n",
      "\n",
      "\tLoss: 1.723738\n",
      "\n",
      "Test Epoch: 36\tAccuracy: 85/190 (45%)\n",
      "\n",
      "\tLoss: 1.630494\n"
     ]
    },
    {
     "name": "stderr",
     "output_type": "stream",
     "text": [
      "\r",
      " 19%|███████████████▍                                                                 | 38/200 [00:03<00:14, 11.18it/s]"
     ]
    },
    {
     "name": "stdout",
     "output_type": "stream",
     "text": [
      "\n",
      "Test Epoch: 37\tAccuracy: 42/190 (22%)\n",
      "\n",
      "\tLoss: 1.578529\n",
      "\n",
      "Test Epoch: 38\tAccuracy: 40/190 (21%)\n",
      "\n",
      "\tLoss: 1.544990\n",
      "\n",
      "Test Epoch: 39\tAccuracy: 92/190 (48%)\n",
      "\n"
     ]
    },
    {
     "name": "stderr",
     "output_type": "stream",
     "text": [
      "\r",
      " 20%|████████████████▏                                                                | 40/200 [00:03<00:14, 11.25it/s]"
     ]
    },
    {
     "name": "stdout",
     "output_type": "stream",
     "text": [
      "\tLoss: 1.540067\n",
      "\n",
      "Test Epoch: 40\tAccuracy: 91/190 (48%)\n",
      "\n",
      "\tLoss: 1.465769\n",
      "\n",
      "Test Epoch: 41\tAccuracy: 87/190 (46%)\n",
      "\n",
      "\tLoss: 1.422754\n"
     ]
    },
    {
     "name": "stderr",
     "output_type": "stream",
     "text": [
      " 22%|█████████████████▊                                                               | 44/200 [00:03<00:13, 11.36it/s]"
     ]
    },
    {
     "name": "stdout",
     "output_type": "stream",
     "text": [
      "\n",
      "Test Epoch: 42\tAccuracy: 75/190 (39%)\n",
      "\n",
      "\tLoss: 1.480949\n",
      "\n",
      "Test Epoch: 43\tAccuracy: 73/190 (38%)\n",
      "\n",
      "\tLoss: 1.386844\n",
      "\n",
      "Test Epoch: 44\tAccuracy: 69/190 (36%)\n",
      "\n",
      "\tLoss: 1.449237\n"
     ]
    },
    {
     "name": "stderr",
     "output_type": "stream",
     "text": [
      "\r",
      " 23%|██████████████████▋                                                              | 46/200 [00:04<00:13, 11.54it/s]"
     ]
    },
    {
     "name": "stdout",
     "output_type": "stream",
     "text": [
      "\n",
      "Test Epoch: 45\tAccuracy: 88/190 (46%)\n",
      "\n",
      "\tLoss: 1.419252\n",
      "\n",
      "Test Epoch: 46\tAccuracy: 99/190 (52%)\n",
      "\n",
      "\tLoss: 1.372202\n",
      "\n",
      "Test Epoch: 47\tAccuracy: 98/190 (52%)\n",
      "\n",
      "\tLoss: 1.410590\n"
     ]
    },
    {
     "name": "stderr",
     "output_type": "stream",
     "text": [
      "\r",
      " 24%|███████████████████▍                                                             | 48/200 [00:04<00:13, 11.65it/s]"
     ]
    },
    {
     "name": "stdout",
     "output_type": "stream",
     "text": [
      "\n",
      "Test Epoch: 48\tAccuracy: 95/190 (50%)\n",
      "\n",
      "\tLoss: 1.373642\n",
      "\n",
      "Test Epoch: 49\tAccuracy: 102/190 (54%)\n",
      "\n",
      "\tLoss: 1.335624\n",
      "\n",
      "Test Epoch: 50\tAccuracy: 104/190 (55%)\n",
      "\n"
     ]
    },
    {
     "name": "stderr",
     "output_type": "stream",
     "text": [
      " 26%|█████████████████████                                                            | 52/200 [00:04<00:12, 11.55it/s]"
     ]
    },
    {
     "name": "stdout",
     "output_type": "stream",
     "text": [
      "\tLoss: 1.377891\n",
      "\n",
      "Test Epoch: 51\tAccuracy: 109/190 (57%)\n",
      "\n",
      "\tLoss: 1.379058\n",
      "\n",
      "Test Epoch: 52\tAccuracy: 113/190 (59%)\n",
      "\n",
      "\tLoss: 1.332425\n"
     ]
    },
    {
     "name": "stderr",
     "output_type": "stream",
     "text": [
      "\r",
      " 27%|█████████████████████▊                                                           | 54/200 [00:04<00:12, 11.66it/s]"
     ]
    },
    {
     "name": "stdout",
     "output_type": "stream",
     "text": [
      "\n",
      "Test Epoch: 53\tAccuracy: 119/190 (63%)\n",
      "\n",
      "\tLoss: 1.359490\n",
      "\n",
      "Test Epoch: 54\tAccuracy: 119/190 (63%)\n",
      "\n",
      "\tLoss: 1.390997\n",
      "\n",
      "Test Epoch: 55\tAccuracy: 120/190 (63%)\n",
      "\n",
      "\tLoss: 1.366638\n"
     ]
    },
    {
     "name": "stderr",
     "output_type": "stream",
     "text": [
      " 29%|███████████████████████▍                                                         | 58/200 [00:05<00:12, 11.45it/s]"
     ]
    },
    {
     "name": "stdout",
     "output_type": "stream",
     "text": [
      "\n",
      "Test Epoch: 56\tAccuracy: 117/190 (62%)\n",
      "\n",
      "\tLoss: 1.301567\n",
      "\n",
      "Test Epoch: 57\tAccuracy: 115/190 (61%)\n",
      "\n",
      "\tLoss: 1.414199\n",
      "\n",
      "Test Epoch: 58\tAccuracy: 124/190 (65%)\n",
      "\n",
      "\tLoss: 1.389766\n"
     ]
    },
    {
     "name": "stderr",
     "output_type": "stream",
     "text": [
      "\r",
      " 30%|████████████████████████▎                                                        | 60/200 [00:05<00:12, 11.43it/s]"
     ]
    },
    {
     "name": "stdout",
     "output_type": "stream",
     "text": [
      "\n",
      "Test Epoch: 59\tAccuracy: 120/190 (63%)\n",
      "\n",
      "\tLoss: 1.295823\n",
      "\n",
      "Test Epoch: 60\tAccuracy: 109/190 (57%)\n",
      "\n",
      "\tLoss: 1.318797\n",
      "\n",
      "Test Epoch: 61\tAccuracy: 101/190 (53%)\n",
      "\n",
      "\tLoss: 1.361380\n"
     ]
    },
    {
     "name": "stderr",
     "output_type": "stream",
     "text": [
      " 32%|█████████████████████████▉                                                       | 64/200 [00:05<00:11, 11.42it/s]"
     ]
    },
    {
     "name": "stdout",
     "output_type": "stream",
     "text": [
      "\n",
      "Test Epoch: 62\tAccuracy: 108/190 (57%)\n",
      "\n",
      "\tLoss: 1.325736\n",
      "\n",
      "Test Epoch: 63\tAccuracy: 108/190 (57%)\n",
      "\n",
      "\tLoss: 1.226135\n",
      "\n",
      "Test Epoch: 64\tAccuracy: 111/190 (58%)\n",
      "\n",
      "\tLoss: 1.244061\n"
     ]
    },
    {
     "name": "stderr",
     "output_type": "stream",
     "text": [
      "\r",
      " 33%|██████████████████████████▋                                                      | 66/200 [00:05<00:11, 11.60it/s]"
     ]
    },
    {
     "name": "stdout",
     "output_type": "stream",
     "text": [
      "\n",
      "Test Epoch: 65\tAccuracy: 115/190 (61%)\n",
      "\n",
      "\tLoss: 1.189343\n",
      "\n",
      "Test Epoch: 66\tAccuracy: 119/190 (63%)\n",
      "\n",
      "\tLoss: 1.243155\n",
      "\n",
      "Test Epoch: 67\tAccuracy: 122/190 (64%)\n",
      "\n",
      "\tLoss: 1.304395\n"
     ]
    },
    {
     "name": "stderr",
     "output_type": "stream",
     "text": [
      "\r",
      " 34%|███████████████████████████▌                                                     | 68/200 [00:06<00:11, 11.61it/s]"
     ]
    },
    {
     "name": "stdout",
     "output_type": "stream",
     "text": [
      "\n",
      "Test Epoch: 68\tAccuracy: 125/190 (66%)\n",
      "\n",
      "\tLoss: 1.242238\n",
      "\n",
      "Test Epoch: 69\tAccuracy: 127/190 (67%)\n",
      "\n",
      "\tLoss: 1.210788\n",
      "\n",
      "Test Epoch: 70\tAccuracy: 121/190 (64%)\n",
      "\n"
     ]
    },
    {
     "name": "stderr",
     "output_type": "stream",
     "text": [
      " 36%|█████████████████████████████▏                                                   | 72/200 [00:06<00:10, 11.72it/s]"
     ]
    },
    {
     "name": "stdout",
     "output_type": "stream",
     "text": [
      "\tLoss: 1.251338\n",
      "\n",
      "Test Epoch: 71\tAccuracy: 120/190 (63%)\n",
      "\n",
      "\tLoss: 1.310591\n",
      "\n",
      "Test Epoch: 72\tAccuracy: 116/190 (61%)\n",
      "\n",
      "\tLoss: 1.170395\n"
     ]
    },
    {
     "name": "stderr",
     "output_type": "stream",
     "text": [
      "\r",
      " 37%|█████████████████████████████▉                                                   | 74/200 [00:06<00:11, 11.45it/s]"
     ]
    },
    {
     "name": "stdout",
     "output_type": "stream",
     "text": [
      "\n",
      "Test Epoch: 73\tAccuracy: 116/190 (61%)\n",
      "\n",
      "\tLoss: 1.332762\n",
      "\n",
      "Test Epoch: 74\tAccuracy: 118/190 (62%)\n",
      "\n",
      "\tLoss: 1.232064\n",
      "\n",
      "Test Epoch: 75\tAccuracy: 119/190 (63%)\n",
      "\n",
      "\tLoss: 1.241179\n"
     ]
    },
    {
     "name": "stderr",
     "output_type": "stream",
     "text": [
      " 39%|███████████████████████████████▌                                                 | 78/200 [00:06<00:10, 11.73it/s]"
     ]
    },
    {
     "name": "stdout",
     "output_type": "stream",
     "text": [
      "\n",
      "Test Epoch: 76\tAccuracy: 119/190 (63%)\n",
      "\n",
      "\tLoss: 1.231964\n",
      "\n",
      "Test Epoch: 77\tAccuracy: 121/190 (64%)\n",
      "\n",
      "\tLoss: 1.191272\n",
      "\n",
      "Test Epoch: 78\tAccuracy: 120/190 (63%)\n",
      "\n",
      "\tLoss: 1.145802\n"
     ]
    },
    {
     "name": "stderr",
     "output_type": "stream",
     "text": [
      "\r",
      " 40%|████████████████████████████████▍                                                | 80/200 [00:07<00:10, 11.74it/s]"
     ]
    },
    {
     "name": "stdout",
     "output_type": "stream",
     "text": [
      "\n",
      "Test Epoch: 79\tAccuracy: 120/190 (63%)\n",
      "\n",
      "\tLoss: 1.242206\n",
      "\n",
      "Test Epoch: 80\tAccuracy: 121/190 (64%)\n",
      "\n",
      "\tLoss: 1.229122\n",
      "\n",
      "Test Epoch: 81\tAccuracy: 123/190 (65%)\n",
      "\n",
      "\tLoss: 1.159534\n"
     ]
    },
    {
     "name": "stderr",
     "output_type": "stream",
     "text": [
      " 42%|██████████████████████████████████                                               | 84/200 [00:07<00:09, 11.73it/s]"
     ]
    },
    {
     "name": "stdout",
     "output_type": "stream",
     "text": [
      "\n",
      "Test Epoch: 82\tAccuracy: 120/190 (63%)\n",
      "\n",
      "\tLoss: 1.191761\n",
      "\n",
      "Test Epoch: 83\tAccuracy: 118/190 (62%)\n",
      "\n",
      "\tLoss: 1.277693\n",
      "\n",
      "Test Epoch: 84\tAccuracy: 118/190 (62%)\n",
      "\n",
      "\tLoss: 1.175305\n"
     ]
    },
    {
     "name": "stderr",
     "output_type": "stream",
     "text": [
      "\r",
      " 43%|██████████████████████████████████▊                                              | 86/200 [00:07<00:09, 11.78it/s]"
     ]
    },
    {
     "name": "stdout",
     "output_type": "stream",
     "text": [
      "\n",
      "Test Epoch: 85\tAccuracy: 119/190 (63%)\n",
      "\n",
      "\tLoss: 1.115702\n",
      "\n",
      "Test Epoch: 86\tAccuracy: 120/190 (63%)\n",
      "\n",
      "\tLoss: 1.192708\n",
      "\n",
      "Test Epoch: 87\tAccuracy: 120/190 (63%)\n",
      "\n",
      "\tLoss: 1.261681\n"
     ]
    },
    {
     "name": "stderr",
     "output_type": "stream",
     "text": [
      "\r",
      " 44%|███████████████████████████████████▋                                             | 88/200 [00:07<00:09, 11.72it/s]"
     ]
    },
    {
     "name": "stdout",
     "output_type": "stream",
     "text": [
      "\n",
      "Test Epoch: 88\tAccuracy: 121/190 (64%)\n",
      "\n",
      "\tLoss: 1.199765\n",
      "\n",
      "Test Epoch: 89\tAccuracy: 120/190 (63%)\n",
      "\n",
      "\tLoss: 1.224114\n",
      "\n",
      "Test Epoch: 90\tAccuracy: 120/190 (63%)\n",
      "\n"
     ]
    },
    {
     "name": "stderr",
     "output_type": "stream",
     "text": [
      " 46%|█████████████████████████████████████▎                                           | 92/200 [00:08<00:09, 11.51it/s]"
     ]
    },
    {
     "name": "stdout",
     "output_type": "stream",
     "text": [
      "\tLoss: 1.235331\n",
      "\n",
      "Test Epoch: 91\tAccuracy: 120/190 (63%)\n",
      "\n",
      "\tLoss: 1.427467\n",
      "\n",
      "Test Epoch: 92\tAccuracy: 119/190 (63%)\n",
      "\n",
      "\tLoss: 1.310639\n"
     ]
    },
    {
     "name": "stderr",
     "output_type": "stream",
     "text": [
      "\r",
      " 47%|██████████████████████████████████████                                           | 94/200 [00:08<00:09, 11.51it/s]"
     ]
    },
    {
     "name": "stdout",
     "output_type": "stream",
     "text": [
      "\n",
      "Test Epoch: 93\tAccuracy: 121/190 (64%)\n",
      "\n",
      "\tLoss: 1.172699\n",
      "\n",
      "Test Epoch: 94\tAccuracy: 121/190 (64%)\n",
      "\n",
      "\tLoss: 1.231559\n",
      "\n",
      "Test Epoch: 95\tAccuracy: 121/190 (64%)\n",
      "\n"
     ]
    },
    {
     "name": "stderr",
     "output_type": "stream",
     "text": [
      "\r",
      " 48%|██████████████████████████████████████▉                                          | 96/200 [00:08<00:09, 11.54it/s]"
     ]
    },
    {
     "name": "stdout",
     "output_type": "stream",
     "text": [
      "\tLoss: 1.257192\n",
      "\n",
      "Test Epoch: 96\tAccuracy: 121/190 (64%)\n",
      "\n",
      "\tLoss: 1.298966\n",
      "\n",
      "Test Epoch: 97\tAccuracy: 121/190 (64%)\n",
      "\n",
      "\tLoss: 1.242414\n"
     ]
    },
    {
     "name": "stderr",
     "output_type": "stream",
     "text": [
      " 50%|████████████████████████████████████████                                        | 100/200 [00:08<00:08, 11.47it/s]"
     ]
    },
    {
     "name": "stdout",
     "output_type": "stream",
     "text": [
      "\n",
      "Test Epoch: 98\tAccuracy: 120/190 (63%)\n",
      "\n",
      "\tLoss: 1.177082\n",
      "\n",
      "Test Epoch: 99\tAccuracy: 121/190 (64%)\n",
      "\n",
      "\tLoss: 1.266028\n",
      "\n",
      "Test Epoch: 100\tAccuracy: 121/190 (64%)\n",
      "\n",
      "\tLoss: 1.134298\n"
     ]
    },
    {
     "name": "stderr",
     "output_type": "stream",
     "text": [
      "\r",
      " 51%|████████████████████████████████████████▊                                       | 102/200 [00:08<00:08, 11.57it/s]"
     ]
    },
    {
     "name": "stdout",
     "output_type": "stream",
     "text": [
      "\n",
      "Test Epoch: 101\tAccuracy: 121/190 (64%)\n",
      "\n",
      "\tLoss: 1.343354\n",
      "\n",
      "Test Epoch: 102\tAccuracy: 121/190 (64%)\n",
      "\n",
      "\tLoss: 1.171812\n",
      "\n",
      "Test Epoch: 103\tAccuracy: 120/190 (63%)\n",
      "\n",
      "\tLoss: 1.113104\n"
     ]
    },
    {
     "name": "stderr",
     "output_type": "stream",
     "text": [
      "\r",
      " 52%|█████████████████████████████████████████▌                                      | 104/200 [00:09<00:08, 11.59it/s]"
     ]
    },
    {
     "name": "stdout",
     "output_type": "stream",
     "text": [
      "\n",
      "Test Epoch: 104\tAccuracy: 120/190 (63%)\n",
      "\n",
      "\tLoss: 1.193490\n",
      "\n",
      "Test Epoch: 105\tAccuracy: 120/190 (63%)\n",
      "\n",
      "\tLoss: 1.262482\n",
      "\n",
      "Test Epoch: 106\tAccuracy: 120/190 (63%)\n",
      "\n"
     ]
    },
    {
     "name": "stderr",
     "output_type": "stream",
     "text": [
      " 54%|███████████████████████████████████████████▏                                    | 108/200 [00:09<00:07, 11.55it/s]"
     ]
    },
    {
     "name": "stdout",
     "output_type": "stream",
     "text": [
      "\tLoss: 1.191550\n",
      "\n",
      "Test Epoch: 107\tAccuracy: 120/190 (63%)\n",
      "\n",
      "\tLoss: 1.213196\n",
      "\n",
      "Test Epoch: 108\tAccuracy: 120/190 (63%)\n",
      "\n",
      "\tLoss: 1.123744\n"
     ]
    },
    {
     "name": "stderr",
     "output_type": "stream",
     "text": [
      "\r",
      " 55%|████████████████████████████████████████████                                    | 110/200 [00:09<00:07, 11.30it/s]"
     ]
    },
    {
     "name": "stdout",
     "output_type": "stream",
     "text": [
      "\n",
      "Test Epoch: 109\tAccuracy: 120/190 (63%)\n",
      "\n",
      "\tLoss: 1.230169\n",
      "\n",
      "Test Epoch: 110\tAccuracy: 120/190 (63%)\n",
      "\n",
      "\tLoss: 1.169578\n",
      "\n",
      "Test Epoch: 111\tAccuracy: 120/190 (63%)\n",
      "\n",
      "\tLoss: 1.161330\n"
     ]
    },
    {
     "name": "stderr",
     "output_type": "stream",
     "text": [
      "\r",
      " 56%|████████████████████████████████████████████▊                                   | 112/200 [00:09<00:07, 11.34it/s]"
     ]
    },
    {
     "name": "stdout",
     "output_type": "stream",
     "text": [
      "\n",
      "Test Epoch: 112\tAccuracy: 120/190 (63%)\n",
      "\n",
      "\tLoss: 1.135296\n",
      "\n",
      "Test Epoch: 113\tAccuracy: 120/190 (63%)\n",
      "\n",
      "\tLoss: 1.240401\n",
      "\n",
      "Test Epoch: 114\tAccuracy: 121/190 (64%)\n",
      "\n"
     ]
    },
    {
     "name": "stderr",
     "output_type": "stream",
     "text": [
      " 58%|██████████████████████████████████████████████▍                                 | 116/200 [00:10<00:07, 11.28it/s]"
     ]
    },
    {
     "name": "stdout",
     "output_type": "stream",
     "text": [
      "\tLoss: 1.207769\n",
      "\n",
      "Test Epoch: 115\tAccuracy: 120/190 (63%)\n",
      "\n",
      "\tLoss: 1.262618\n",
      "\n",
      "Test Epoch: 116\tAccuracy: 120/190 (63%)\n",
      "\n",
      "\tLoss: 1.193512\n"
     ]
    },
    {
     "name": "stderr",
     "output_type": "stream",
     "text": [
      "\r",
      " 59%|███████████████████████████████████████████████▏                                | 118/200 [00:10<00:07, 11.42it/s]"
     ]
    },
    {
     "name": "stdout",
     "output_type": "stream",
     "text": [
      "\n",
      "Test Epoch: 117\tAccuracy: 120/190 (63%)\n",
      "\n",
      "\tLoss: 1.197245\n",
      "\n",
      "Test Epoch: 118\tAccuracy: 121/190 (64%)\n",
      "\n",
      "\tLoss: 1.194474\n",
      "\n",
      "Test Epoch: 119\tAccuracy: 120/190 (63%)\n",
      "\n",
      "\tLoss: 1.141613\n"
     ]
    },
    {
     "name": "stderr",
     "output_type": "stream",
     "text": [
      " 61%|████████████████████████████████████████████████▊                               | 122/200 [00:10<00:06, 11.45it/s]"
     ]
    },
    {
     "name": "stdout",
     "output_type": "stream",
     "text": [
      "\n",
      "Test Epoch: 120\tAccuracy: 120/190 (63%)\n",
      "\n",
      "\tLoss: 1.126314\n",
      "\n",
      "Test Epoch: 121\tAccuracy: 121/190 (64%)\n",
      "\n",
      "\tLoss: 1.176740\n",
      "\n",
      "Test Epoch: 122\tAccuracy: 121/190 (64%)\n",
      "\n",
      "\tLoss: 1.138101\n"
     ]
    },
    {
     "name": "stderr",
     "output_type": "stream",
     "text": [
      "\r",
      " 62%|█████████████████████████████████████████████████▌                              | 124/200 [00:10<00:06, 11.54it/s]"
     ]
    },
    {
     "name": "stdout",
     "output_type": "stream",
     "text": [
      "\n",
      "Test Epoch: 123\tAccuracy: 121/190 (64%)\n",
      "\n",
      "\tLoss: 1.208392\n",
      "\n",
      "Test Epoch: 124\tAccuracy: 120/190 (63%)\n",
      "\n",
      "\tLoss: 1.238026\n",
      "\n",
      "Test Epoch: 125\tAccuracy: 121/190 (64%)\n",
      "\n",
      "\tLoss: 1.205195\n"
     ]
    },
    {
     "name": "stderr",
     "output_type": "stream",
     "text": [
      " 64%|███████████████████████████████████████████████████▏                            | 128/200 [00:11<00:06, 11.50it/s]"
     ]
    },
    {
     "name": "stdout",
     "output_type": "stream",
     "text": [
      "\n",
      "Test Epoch: 126\tAccuracy: 121/190 (64%)\n",
      "\n",
      "\tLoss: 1.257259\n",
      "\n",
      "Test Epoch: 127\tAccuracy: 120/190 (63%)\n",
      "\n",
      "\tLoss: 1.223090\n",
      "\n",
      "Test Epoch: 128\tAccuracy: 121/190 (64%)\n",
      "\n",
      "\tLoss: 1.222145\n"
     ]
    },
    {
     "name": "stderr",
     "output_type": "stream",
     "text": [
      "\r",
      " 65%|████████████████████████████████████████████████████                            | 130/200 [00:11<00:06, 11.54it/s]"
     ]
    },
    {
     "name": "stdout",
     "output_type": "stream",
     "text": [
      "\n",
      "Test Epoch: 129\tAccuracy: 121/190 (64%)\n",
      "\n",
      "\tLoss: 1.306684\n",
      "\n",
      "Test Epoch: 130\tAccuracy: 121/190 (64%)\n",
      "\n",
      "\tLoss: 1.240714\n",
      "\n",
      "Test Epoch: 131\tAccuracy: 122/190 (64%)\n",
      "\n",
      "\tLoss: 1.248958\n"
     ]
    },
    {
     "name": "stderr",
     "output_type": "stream",
     "text": [
      "\r",
      " 66%|████████████████████████████████████████████████████▊                           | 132/200 [00:11<00:05, 11.47it/s]"
     ]
    },
    {
     "name": "stdout",
     "output_type": "stream",
     "text": [
      "\n",
      "Test Epoch: 132\tAccuracy: 122/190 (64%)\n",
      "\n",
      "\tLoss: 1.149462\n",
      "\n",
      "Test Epoch: 133\tAccuracy: 120/190 (63%)\n",
      "\n",
      "\tLoss: 1.158357\n",
      "\n",
      "Test Epoch: 134\tAccuracy: 121/190 (64%)\n",
      "\n"
     ]
    },
    {
     "name": "stderr",
     "output_type": "stream",
     "text": [
      " 68%|██████████████████████████████████████████████████████▍                         | 136/200 [00:11<00:05, 11.26it/s]"
     ]
    },
    {
     "name": "stdout",
     "output_type": "stream",
     "text": [
      "\tLoss: 1.199018\n",
      "\n",
      "Test Epoch: 135\tAccuracy: 121/190 (64%)\n",
      "\n",
      "\tLoss: 1.314225\n",
      "\n",
      "Test Epoch: 136\tAccuracy: 120/190 (63%)\n",
      "\n",
      "\tLoss: 1.173969\n"
     ]
    },
    {
     "name": "stderr",
     "output_type": "stream",
     "text": [
      "\r",
      " 69%|███████████████████████████████████████████████████████▏                        | 138/200 [00:12<00:05, 11.29it/s]"
     ]
    },
    {
     "name": "stdout",
     "output_type": "stream",
     "text": [
      "\n",
      "Test Epoch: 137\tAccuracy: 121/190 (64%)\n",
      "\n",
      "\tLoss: 1.142952\n",
      "\n",
      "Test Epoch: 138\tAccuracy: 122/190 (64%)\n",
      "\n",
      "\tLoss: 1.252669\n",
      "\n",
      "Test Epoch: 139\tAccuracy: 122/190 (64%)\n",
      "\n",
      "\tLoss: 1.235870\n"
     ]
    },
    {
     "name": "stderr",
     "output_type": "stream",
     "text": [
      " 71%|████████████████████████████████████████████████████████▊                       | 142/200 [00:12<00:05, 11.47it/s]"
     ]
    },
    {
     "name": "stdout",
     "output_type": "stream",
     "text": [
      "\n",
      "Test Epoch: 140\tAccuracy: 120/190 (63%)\n",
      "\n",
      "\tLoss: 1.194584\n",
      "\n",
      "Test Epoch: 141\tAccuracy: 120/190 (63%)\n",
      "\n",
      "\tLoss: 1.204885\n",
      "\n",
      "Test Epoch: 142\tAccuracy: 121/190 (64%)\n",
      "\n",
      "\tLoss: 1.145190\n"
     ]
    },
    {
     "name": "stderr",
     "output_type": "stream",
     "text": [
      "\r",
      " 72%|█████████████████████████████████████████████████████████▌                      | 144/200 [00:12<00:04, 11.56it/s]"
     ]
    },
    {
     "name": "stdout",
     "output_type": "stream",
     "text": [
      "\n",
      "Test Epoch: 143\tAccuracy: 121/190 (64%)\n",
      "\n",
      "\tLoss: 1.121479\n",
      "\n",
      "Test Epoch: 144\tAccuracy: 121/190 (64%)\n",
      "\n",
      "\tLoss: 1.262377\n",
      "\n",
      "Test Epoch: 145\tAccuracy: 121/190 (64%)\n",
      "\n",
      "\tLoss: 1.198005\n"
     ]
    },
    {
     "name": "stderr",
     "output_type": "stream",
     "text": [
      " 74%|███████████████████████████████████████████████████████████▏                    | 148/200 [00:12<00:04, 11.59it/s]"
     ]
    },
    {
     "name": "stdout",
     "output_type": "stream",
     "text": [
      "\n",
      "Test Epoch: 146\tAccuracy: 121/190 (64%)\n",
      "\n",
      "\tLoss: 1.140104\n",
      "\n",
      "Test Epoch: 147\tAccuracy: 121/190 (64%)\n",
      "\n",
      "\tLoss: 1.283113\n",
      "\n",
      "Test Epoch: 148\tAccuracy: 121/190 (64%)\n",
      "\n",
      "\tLoss: 1.202863\n"
     ]
    },
    {
     "name": "stderr",
     "output_type": "stream",
     "text": [
      "\r",
      " 75%|████████████████████████████████████████████████████████████                    | 150/200 [00:13<00:04, 11.65it/s]"
     ]
    },
    {
     "name": "stdout",
     "output_type": "stream",
     "text": [
      "\n",
      "Test Epoch: 149\tAccuracy: 121/190 (64%)\n",
      "\n",
      "\tLoss: 1.211085\n",
      "\n",
      "Test Epoch: 150\tAccuracy: 122/190 (64%)\n",
      "\n",
      "\tLoss: 1.197524\n",
      "\n",
      "Test Epoch: 151\tAccuracy: 122/190 (64%)\n",
      "\n",
      "\tLoss: 1.228393\n"
     ]
    },
    {
     "name": "stderr",
     "output_type": "stream",
     "text": [
      " 77%|█████████████████████████████████████████████████████████████▌                  | 154/200 [00:13<00:03, 12.13it/s]"
     ]
    },
    {
     "name": "stdout",
     "output_type": "stream",
     "text": [
      "\n",
      "Test Epoch: 152\tAccuracy: 122/190 (64%)\n",
      "\n",
      "\tLoss: 1.121895\n",
      "\n",
      "Test Epoch: 153\tAccuracy: 122/190 (64%)\n",
      "\n",
      "\tLoss: 1.247480\n",
      "\n",
      "Test Epoch: 154\tAccuracy: 121/190 (64%)\n",
      "\n",
      "\tLoss: 1.184189\n"
     ]
    },
    {
     "name": "stderr",
     "output_type": "stream",
     "text": [
      "\r",
      " 78%|██████████████████████████████████████████████████████████████▍                 | 156/200 [00:13<00:03, 11.89it/s]"
     ]
    },
    {
     "name": "stdout",
     "output_type": "stream",
     "text": [
      "\n",
      "Test Epoch: 155\tAccuracy: 122/190 (64%)\n",
      "\n",
      "\tLoss: 1.215523\n",
      "\n",
      "Test Epoch: 156\tAccuracy: 122/190 (64%)\n",
      "\n",
      "\tLoss: 1.261515\n",
      "\n",
      "Test Epoch: 157\tAccuracy: 121/190 (64%)\n",
      "\n",
      "\tLoss: 1.247159\n"
     ]
    },
    {
     "name": "stderr",
     "output_type": "stream",
     "text": [
      " 80%|████████████████████████████████████████████████████████████████                | 160/200 [00:13<00:03, 11.54it/s]"
     ]
    },
    {
     "name": "stdout",
     "output_type": "stream",
     "text": [
      "\n",
      "Test Epoch: 158\tAccuracy: 121/190 (64%)\n",
      "\n",
      "\tLoss: 1.255898\n",
      "\n",
      "Test Epoch: 159\tAccuracy: 121/190 (64%)\n",
      "\n",
      "\tLoss: 1.174126\n",
      "\n",
      "Test Epoch: 160\tAccuracy: 122/190 (64%)\n",
      "\n"
     ]
    },
    {
     "name": "stderr",
     "output_type": "stream",
     "text": [
      "\r",
      " 81%|████████████████████████████████████████████████████████████████▊               | 162/200 [00:14<00:03, 11.62it/s]"
     ]
    },
    {
     "name": "stdout",
     "output_type": "stream",
     "text": [
      "\tLoss: 1.238707\n",
      "\n",
      "Test Epoch: 161\tAccuracy: 122/190 (64%)\n",
      "\n",
      "\tLoss: 1.214995\n",
      "\n",
      "Test Epoch: 162\tAccuracy: 121/190 (64%)\n",
      "\n",
      "\tLoss: 1.212930\n"
     ]
    },
    {
     "name": "stderr",
     "output_type": "stream",
     "text": [
      "\r",
      " 82%|█████████████████████████████████████████████████████████████████▌              | 164/200 [00:14<00:03, 11.21it/s]"
     ]
    },
    {
     "name": "stdout",
     "output_type": "stream",
     "text": [
      "\n",
      "Test Epoch: 163\tAccuracy: 122/190 (64%)\n",
      "\n",
      "\tLoss: 1.175917\n",
      "\n",
      "Test Epoch: 164\tAccuracy: 122/190 (64%)\n",
      "\n",
      "\tLoss: 1.225132\n",
      "\n",
      "Test Epoch: 165\tAccuracy: 121/190 (64%)\n",
      "\n"
     ]
    },
    {
     "name": "stderr",
     "output_type": "stream",
     "text": [
      "\r",
      " 83%|██████████████████████████████████████████████████████████████████▍             | 166/200 [00:14<00:03, 11.18it/s]"
     ]
    },
    {
     "name": "stdout",
     "output_type": "stream",
     "text": [
      "\tLoss: 1.169231\n",
      "\n",
      "Test Epoch: 166\tAccuracy: 121/190 (64%)\n",
      "\n",
      "\tLoss: 1.246496\n",
      "\n",
      "Test Epoch: 167\tAccuracy: 121/190 (64%)\n",
      "\n",
      "\tLoss: 1.257935\n"
     ]
    },
    {
     "name": "stderr",
     "output_type": "stream",
     "text": [
      "\r",
      " 84%|███████████████████████████████████████████████████████████████████▏            | 168/200 [00:14<00:02, 11.27it/s]"
     ]
    },
    {
     "name": "stdout",
     "output_type": "stream",
     "text": [
      "\n",
      "Test Epoch: 168\tAccuracy: 121/190 (64%)\n",
      "\n",
      "\tLoss: 1.225540\n",
      "\n",
      "Test Epoch: 169\tAccuracy: 121/190 (64%)\n",
      "\n",
      "\tLoss: 1.194014\n",
      "\n",
      "Test Epoch: 170\tAccuracy: 121/190 (64%)\n",
      "\n"
     ]
    },
    {
     "name": "stderr",
     "output_type": "stream",
     "text": [
      " 86%|████████████████████████████████████████████████████████████████████▊           | 172/200 [00:15<00:02, 11.06it/s]"
     ]
    },
    {
     "name": "stdout",
     "output_type": "stream",
     "text": [
      "\tLoss: 1.166753\n",
      "\n",
      "Test Epoch: 171\tAccuracy: 122/190 (64%)\n",
      "\n",
      "\tLoss: 1.220999\n",
      "\n",
      "Test Epoch: 172\tAccuracy: 122/190 (64%)\n",
      "\n",
      "\tLoss: 1.236650\n"
     ]
    },
    {
     "name": "stderr",
     "output_type": "stream",
     "text": [
      "\r",
      " 87%|█████████████████████████████████████████████████████████████████████▌          | 174/200 [00:15<00:02, 10.84it/s]"
     ]
    },
    {
     "name": "stdout",
     "output_type": "stream",
     "text": [
      "\n",
      "Test Epoch: 173\tAccuracy: 121/190 (64%)\n",
      "\n",
      "\tLoss: 1.265958\n",
      "\n",
      "Test Epoch: 174\tAccuracy: 121/190 (64%)\n",
      "\n",
      "\tLoss: 1.261594\n",
      "\n",
      "Test Epoch: 175\tAccuracy: 121/190 (64%)\n",
      "\n"
     ]
    },
    {
     "name": "stderr",
     "output_type": "stream",
     "text": [
      "\r",
      " 88%|██████████████████████████████████████████████████████████████████████▍         | 176/200 [00:15<00:02, 10.99it/s]"
     ]
    },
    {
     "name": "stdout",
     "output_type": "stream",
     "text": [
      "\tLoss: 1.298023\n",
      "\n",
      "Test Epoch: 176\tAccuracy: 121/190 (64%)\n",
      "\n",
      "\tLoss: 1.181558\n",
      "\n",
      "Test Epoch: 177\tAccuracy: 121/190 (64%)\n",
      "\n",
      "\tLoss: 1.181816\n"
     ]
    },
    {
     "name": "stderr",
     "output_type": "stream",
     "text": [
      "\r",
      " 89%|███████████████████████████████████████████████████████████████████████▏        | 178/200 [00:15<00:01, 11.14it/s]"
     ]
    },
    {
     "name": "stdout",
     "output_type": "stream",
     "text": [
      "\n",
      "Test Epoch: 178\tAccuracy: 121/190 (64%)\n",
      "\n",
      "\tLoss: 1.171107\n",
      "\n",
      "Test Epoch: 179\tAccuracy: 121/190 (64%)\n",
      "\n",
      "\tLoss: 1.308175\n",
      "\n",
      "Test Epoch: 180\tAccuracy: 122/190 (64%)\n",
      "\n"
     ]
    },
    {
     "name": "stderr",
     "output_type": "stream",
     "text": [
      " 91%|████████████████████████████████████████████████████████████████████████▊       | 182/200 [00:15<00:01, 10.83it/s]"
     ]
    },
    {
     "name": "stdout",
     "output_type": "stream",
     "text": [
      "\tLoss: 1.257219\n",
      "\n",
      "Test Epoch: 181\tAccuracy: 121/190 (64%)\n",
      "\n",
      "\tLoss: 1.194885\n",
      "\n",
      "Test Epoch: 182\tAccuracy: 121/190 (64%)\n",
      "\n",
      "\tLoss: 1.355296\n"
     ]
    },
    {
     "name": "stderr",
     "output_type": "stream",
     "text": [
      "\r",
      " 92%|█████████████████████████████████████████████████████████████████████████▌      | 184/200 [00:16<00:01, 10.65it/s]"
     ]
    },
    {
     "name": "stdout",
     "output_type": "stream",
     "text": [
      "\n",
      "Test Epoch: 183\tAccuracy: 121/190 (64%)\n",
      "\n",
      "\tLoss: 1.223185\n",
      "\n",
      "Test Epoch: 184\tAccuracy: 121/190 (64%)\n",
      "\n",
      "\tLoss: 1.156017\n",
      "\n",
      "Test Epoch: 185\tAccuracy: 120/190 (63%)\n",
      "\n"
     ]
    },
    {
     "name": "stderr",
     "output_type": "stream",
     "text": [
      "\r",
      " 93%|██████████████████████████████████████████████████████████████████████████▍     | 186/200 [00:16<00:01, 10.43it/s]"
     ]
    },
    {
     "name": "stdout",
     "output_type": "stream",
     "text": [
      "\tLoss: 1.125204\n",
      "\n",
      "Test Epoch: 186\tAccuracy: 120/190 (63%)\n",
      "\n",
      "\tLoss: 1.192100\n",
      "\n",
      "Test Epoch: 187\tAccuracy: 121/190 (64%)\n",
      "\n"
     ]
    },
    {
     "name": "stderr",
     "output_type": "stream",
     "text": [
      "\r",
      " 94%|███████████████████████████████████████████████████████████████████████████▏    | 188/200 [00:16<00:01, 10.23it/s]"
     ]
    },
    {
     "name": "stdout",
     "output_type": "stream",
     "text": [
      "\tLoss: 1.204141\n",
      "\n",
      "Test Epoch: 188\tAccuracy: 121/190 (64%)\n",
      "\n",
      "\tLoss: 1.266665\n",
      "\n",
      "Test Epoch: 189\tAccuracy: 122/190 (64%)\n",
      "\n",
      "\tLoss: 1.319716\n"
     ]
    },
    {
     "name": "stderr",
     "output_type": "stream",
     "text": [
      "\r",
      " 95%|████████████████████████████████████████████████████████████████████████████    | 190/200 [00:16<00:00, 10.18it/s]"
     ]
    },
    {
     "name": "stdout",
     "output_type": "stream",
     "text": [
      "\n",
      "Test Epoch: 190\tAccuracy: 121/190 (64%)\n",
      "\n",
      "\tLoss: 1.230296\n",
      "\n",
      "Test Epoch: 191\tAccuracy: 121/190 (64%)\n",
      "\n",
      "\tLoss: 1.297813\n"
     ]
    },
    {
     "name": "stderr",
     "output_type": "stream",
     "text": [
      "\r",
      " 96%|████████████████████████████████████████████████████████████████████████████▊   | 192/200 [00:17<00:00,  9.99it/s]"
     ]
    },
    {
     "name": "stdout",
     "output_type": "stream",
     "text": [
      "\n",
      "Test Epoch: 192\tAccuracy: 121/190 (64%)\n",
      "\n",
      "\tLoss: 1.192749\n",
      "\n",
      "Test Epoch: 193\tAccuracy: 121/190 (64%)\n",
      "\n",
      "\tLoss: 1.155421\n",
      "\n",
      "Test Epoch: 194\tAccuracy: 121/190 (64%)\n",
      "\n"
     ]
    },
    {
     "name": "stderr",
     "output_type": "stream",
     "text": [
      " 98%|██████████████████████████████████████████████████████████████████████████████▍ | 196/200 [00:17<00:00, 10.04it/s]"
     ]
    },
    {
     "name": "stdout",
     "output_type": "stream",
     "text": [
      "\tLoss: 1.194937\n",
      "\n",
      "Test Epoch: 195\tAccuracy: 121/190 (64%)\n",
      "\n",
      "\tLoss: 1.228602\n",
      "\n",
      "Test Epoch: 196\tAccuracy: 121/190 (64%)\n",
      "\n",
      "\tLoss: 1.267367\n"
     ]
    },
    {
     "name": "stderr",
     "output_type": "stream",
     "text": [
      "\r",
      " 99%|███████████████████████████████████████████████████████████████████████████████▏| 198/200 [00:17<00:00, 10.32it/s]"
     ]
    },
    {
     "name": "stdout",
     "output_type": "stream",
     "text": [
      "\n",
      "Test Epoch: 197\tAccuracy: 122/190 (64%)\n",
      "\n",
      "\tLoss: 1.183558\n",
      "\n",
      "Test Epoch: 198\tAccuracy: 122/190 (64%)\n",
      "\n",
      "\tLoss: 1.225733\n",
      "\n",
      "Test Epoch: 199\tAccuracy: 122/190 (64%)\n",
      "\n",
      "\tLoss: 1.222621\n"
     ]
    },
    {
     "name": "stderr",
     "output_type": "stream",
     "text": [
      "100%|████████████████████████████████████████████████████████████████████████████████| 200/200 [00:17<00:00, 11.26it/s]"
     ]
    },
    {
     "name": "stdout",
     "output_type": "stream",
     "text": [
      "\n",
      "Test Epoch: 200\tAccuracy: 122/190 (64%)\n",
      "\n"
     ]
    },
    {
     "name": "stderr",
     "output_type": "stream",
     "text": [
      "\n"
     ]
    }
   ],
   "source": [
    "log_interval = 20\n",
    "n_epoch = 200\n",
    "\n",
    "losses = []\n",
    "accuracy=[]\n",
    "lr=[]\n",
    "\n",
    "for epoch in tqdm(range(1, n_epoch + 1)):\n",
    "    train(model, epoch, log_interval)\n",
    "    accuracy+=[test(model, epoch)]\n",
    "    lr.append(scheduler.get_last_lr()[0])\n",
    "#     if accuracy[-1]>0.97:\n",
    "#         break\n",
    "    scheduler.step()"
   ]
  },
  {
   "cell_type": "code",
   "execution_count": 9,
   "metadata": {},
   "outputs": [],
   "source": [
    "losses=np.array(losses)/max(losses)\n",
    "# lr=np.array(lr)*10"
   ]
  },
  {
   "cell_type": "code",
   "execution_count": 10,
   "metadata": {},
   "outputs": [
    {
     "name": "stdout",
     "output_type": "stream",
     "text": [
      "[0.61106263 1.         0.65956689 0.62379329 0.58474377 0.60243492\n",
      " 0.59996352 0.59608986 0.58795973 0.58743524 0.58029131 0.58189207\n",
      " 0.57197723 0.57112674 0.56281887 0.53582364 0.53865525 0.55546169\n",
      " 0.53277221 0.52400969 0.522123   0.50905612 0.49876928 0.49147814\n",
      " 0.49899598 0.49261069 0.46226617 0.47454642 0.45818335 0.47619099\n",
      " 0.42174379 0.46600902 0.4205389  0.43488231 0.41970399 0.44418839\n",
      " 0.42016029 0.40676955 0.39812693 0.39685836 0.37771243 0.36662803\n",
      " 0.38162421 0.3573745  0.37345251 0.3657256  0.35360142 0.36349359\n",
      " 0.35397232 0.3441756  0.35506733 0.35536801 0.34335125 0.35032556\n",
      " 0.35844454 0.35216749 0.33539945 0.36442339 0.35812752 0.33391923\n",
      " 0.33983941 0.35081267 0.34162762 0.31596162 0.32058076 0.30648062\n",
      " 0.32034736 0.33612831 0.32011104 0.31200677 0.32245615 0.33772475\n",
      " 0.30159791 0.34343819 0.31748936 0.31983819 0.3174635  0.30697772\n",
      " 0.29526045 0.32010287 0.31673125 0.29879923 0.30710363 0.32924749\n",
      " 0.30286307 0.2875041  0.3073477  0.32512142 0.30916613 0.31544075\n",
      " 0.31833122 0.36784256 0.33773734 0.30219171 0.31735924 0.32396454\n",
      " 0.33472925 0.32015647 0.30332106 0.3262414  0.29229604 0.34616763\n",
      " 0.30196307 0.28683464 0.30754927 0.32532763 0.30704932 0.3126272\n",
      " 0.2895764  0.31700106 0.30138749 0.29926183 0.29255316 0.31963778\n",
      " 0.31122876 0.32536265 0.30755489 0.30851674 0.30780274 0.29418101\n",
      " 0.29023873 0.30323293 0.29327619 0.31138935 0.31902562 0.31056544\n",
      " 0.32398181 0.31517684 0.31493336 0.33671796 0.3197183  0.32184263\n",
      " 0.29620379 0.29849588 0.30897362 0.3386614  0.30251893 0.29452626\n",
      " 0.32279894 0.31847006 0.30783109 0.31048548 0.29510286 0.2889928\n",
      " 0.32530072 0.30871281 0.29379236 0.3306441  0.30996458 0.31208317\n",
      " 0.30858865 0.31654337 0.28910007 0.32146175 0.30515246 0.31322699\n",
      " 0.32507857 0.32137912 0.32363103 0.30255945 0.31920111 0.31309075\n",
      " 0.31255864 0.30302094 0.31570306 0.30129785 0.32120826 0.32415601\n",
      " 0.31580821 0.30768422 0.30065942 0.31463791 0.31867106 0.32622337\n",
      " 0.32509896 0.33448611 0.3044744  0.304541   0.30178149 0.33710223\n",
      " 0.32397158 0.30790868 0.34924474 0.31520139 0.29789278 0.28995261\n",
      " 0.30719097 0.31029395 0.32640553 0.34007631 0.31703383 0.33443217\n",
      " 0.30735826 0.29773925 0.30792199 0.3165971  0.32658653 0.30498977\n",
      " 0.31585794 0.31505599]\n"
     ]
    }
   ],
   "source": [
    "print(losses)"
   ]
  },
  {
   "cell_type": "code",
   "execution_count": 11,
   "metadata": {},
   "outputs": [
    {
     "name": "stdout",
     "output_type": "stream",
     "text": [
      "[0.1, 0.09473684210526316, 0.09473684210526316, 0.09473684210526316, 0.09473684210526316, 0.1, 0.08421052631578947, 0.09473684210526316, 0.11578947368421053, 0.14210526315789473, 0.14736842105263157, 0.20526315789473684, 0.11052631578947368, 0.11578947368421053, 0.15789473684210525, 0.1631578947368421, 0.1736842105263158, 0.16842105263157894, 0.14736842105263157, 0.13157894736842105, 0.17894736842105263, 0.24210526315789474, 0.25263157894736843, 0.1368421052631579, 0.12105263157894737, 0.1631578947368421, 0.14210526315789473, 0.13157894736842105, 0.22105263157894736, 0.3473684210526316, 0.2894736842105263, 0.3631578947368421, 0.20526315789473684, 0.25263157894736843, 0.4842105263157895, 0.4473684210526316, 0.22105263157894736, 0.21052631578947367, 0.4842105263157895, 0.4789473684210526, 0.45789473684210524, 0.39473684210526316, 0.38421052631578945, 0.3631578947368421, 0.4631578947368421, 0.5210526315789473, 0.5157894736842106, 0.5, 0.5368421052631579, 0.5473684210526316, 0.5736842105263158, 0.5947368421052631, 0.6263157894736842, 0.6263157894736842, 0.631578947368421, 0.6157894736842106, 0.6052631578947368, 0.6526315789473685, 0.631578947368421, 0.5736842105263158, 0.531578947368421, 0.5684210526315789, 0.5684210526315789, 0.5842105263157895, 0.6052631578947368, 0.6263157894736842, 0.6421052631578947, 0.6578947368421053, 0.6684210526315789, 0.6368421052631579, 0.631578947368421, 0.6105263157894737, 0.6105263157894737, 0.6210526315789474, 0.6263157894736842, 0.6263157894736842, 0.6368421052631579, 0.631578947368421, 0.631578947368421, 0.6368421052631579, 0.6473684210526316, 0.631578947368421, 0.6210526315789474, 0.6210526315789474, 0.6263157894736842, 0.631578947368421, 0.631578947368421, 0.6368421052631579, 0.631578947368421, 0.631578947368421, 0.631578947368421, 0.6263157894736842, 0.6368421052631579, 0.6368421052631579, 0.6368421052631579, 0.6368421052631579, 0.6368421052631579, 0.631578947368421, 0.6368421052631579, 0.6368421052631579, 0.6368421052631579, 0.6368421052631579, 0.631578947368421, 0.631578947368421, 0.631578947368421, 0.631578947368421, 0.631578947368421, 0.631578947368421, 0.631578947368421, 0.631578947368421, 0.631578947368421, 0.631578947368421, 0.631578947368421, 0.6368421052631579, 0.631578947368421, 0.631578947368421, 0.631578947368421, 0.6368421052631579, 0.631578947368421, 0.631578947368421, 0.6368421052631579, 0.6368421052631579, 0.6368421052631579, 0.631578947368421, 0.6368421052631579, 0.6368421052631579, 0.631578947368421, 0.6368421052631579, 0.6368421052631579, 0.6368421052631579, 0.6421052631578947, 0.6421052631578947, 0.631578947368421, 0.6368421052631579, 0.6368421052631579, 0.631578947368421, 0.6368421052631579, 0.6421052631578947, 0.6421052631578947, 0.631578947368421, 0.631578947368421, 0.6368421052631579, 0.6368421052631579, 0.6368421052631579, 0.6368421052631579, 0.6368421052631579, 0.6368421052631579, 0.6368421052631579, 0.6368421052631579, 0.6421052631578947, 0.6421052631578947, 0.6421052631578947, 0.6421052631578947, 0.6368421052631579, 0.6421052631578947, 0.6421052631578947, 0.6368421052631579, 0.6368421052631579, 0.6368421052631579, 0.6421052631578947, 0.6421052631578947, 0.6368421052631579, 0.6421052631578947, 0.6421052631578947, 0.6368421052631579, 0.6368421052631579, 0.6368421052631579, 0.6368421052631579, 0.6368421052631579, 0.6368421052631579, 0.6421052631578947, 0.6421052631578947, 0.6368421052631579, 0.6368421052631579, 0.6368421052631579, 0.6368421052631579, 0.6368421052631579, 0.6368421052631579, 0.6368421052631579, 0.6421052631578947, 0.6368421052631579, 0.6368421052631579, 0.6368421052631579, 0.6368421052631579, 0.631578947368421, 0.631578947368421, 0.6368421052631579, 0.6368421052631579, 0.6421052631578947, 0.6368421052631579, 0.6368421052631579, 0.6368421052631579, 0.6368421052631579, 0.6368421052631579, 0.6368421052631579, 0.6368421052631579, 0.6421052631578947, 0.6421052631578947, 0.6421052631578947, 0.6421052631578947]\n"
     ]
    }
   ],
   "source": [
    "print(accuracy)"
   ]
  },
  {
   "cell_type": "code",
   "execution_count": 12,
   "metadata": {},
   "outputs": [
    {
     "name": "stdout",
     "output_type": "stream",
     "text": [
      "[0.1, 0.1, 0.1, 0.1, 0.1, 0.1, 0.1, 0.1, 0.1, 0.1, 0.05, 0.05, 0.05, 0.05, 0.05, 0.05, 0.05, 0.05, 0.05, 0.05, 0.025, 0.025, 0.025, 0.025, 0.025, 0.025, 0.025, 0.025, 0.025, 0.025, 0.0125, 0.0125, 0.0125, 0.0125, 0.0125, 0.0125, 0.0125, 0.0125, 0.0125, 0.0125, 0.00625, 0.00625, 0.00625, 0.00625, 0.00625, 0.00625, 0.00625, 0.00625, 0.00625, 0.00625, 0.003125, 0.003125, 0.003125, 0.003125, 0.003125, 0.003125, 0.003125, 0.003125, 0.003125, 0.003125, 0.0015625, 0.0015625, 0.0015625, 0.0015625, 0.0015625, 0.0015625, 0.0015625, 0.0015625, 0.0015625, 0.0015625, 0.00078125, 0.00078125, 0.00078125, 0.00078125, 0.00078125, 0.00078125, 0.00078125, 0.00078125, 0.00078125, 0.00078125, 0.000390625, 0.000390625, 0.000390625, 0.000390625, 0.000390625, 0.000390625, 0.000390625, 0.000390625, 0.000390625, 0.000390625, 0.0001953125, 0.0001953125, 0.0001953125, 0.0001953125, 0.0001953125, 0.0001953125, 0.0001953125, 0.0001953125, 0.0001953125, 0.0001953125, 9.765625e-05, 9.765625e-05, 9.765625e-05, 9.765625e-05, 9.765625e-05, 9.765625e-05, 9.765625e-05, 9.765625e-05, 9.765625e-05, 9.765625e-05, 4.8828125e-05, 4.8828125e-05, 4.8828125e-05, 4.8828125e-05, 4.8828125e-05, 4.8828125e-05, 4.8828125e-05, 4.8828125e-05, 4.8828125e-05, 4.8828125e-05, 2.44140625e-05, 2.44140625e-05, 2.44140625e-05, 2.44140625e-05, 2.44140625e-05, 2.44140625e-05, 2.44140625e-05, 2.44140625e-05, 2.44140625e-05, 2.44140625e-05, 1.220703125e-05, 1.220703125e-05, 1.220703125e-05, 1.220703125e-05, 1.220703125e-05, 1.220703125e-05, 1.220703125e-05, 1.220703125e-05, 1.220703125e-05, 1.220703125e-05, 6.103515625e-06, 6.103515625e-06, 6.103515625e-06, 6.103515625e-06, 6.103515625e-06, 6.103515625e-06, 6.103515625e-06, 6.103515625e-06, 6.103515625e-06, 6.103515625e-06, 3.0517578125e-06, 3.0517578125e-06, 3.0517578125e-06, 3.0517578125e-06, 3.0517578125e-06, 3.0517578125e-06, 3.0517578125e-06, 3.0517578125e-06, 3.0517578125e-06, 3.0517578125e-06, 1.52587890625e-06, 1.52587890625e-06, 1.52587890625e-06, 1.52587890625e-06, 1.52587890625e-06, 1.52587890625e-06, 1.52587890625e-06, 1.52587890625e-06, 1.52587890625e-06, 1.52587890625e-06, 7.62939453125e-07, 7.62939453125e-07, 7.62939453125e-07, 7.62939453125e-07, 7.62939453125e-07, 7.62939453125e-07, 7.62939453125e-07, 7.62939453125e-07, 7.62939453125e-07, 7.62939453125e-07, 3.814697265625e-07, 3.814697265625e-07, 3.814697265625e-07, 3.814697265625e-07, 3.814697265625e-07, 3.814697265625e-07, 3.814697265625e-07, 3.814697265625e-07, 3.814697265625e-07, 3.814697265625e-07, 1.9073486328125e-07, 1.9073486328125e-07, 1.9073486328125e-07, 1.9073486328125e-07, 1.9073486328125e-07, 1.9073486328125e-07, 1.9073486328125e-07, 1.9073486328125e-07, 1.9073486328125e-07, 1.9073486328125e-07]\n"
     ]
    }
   ],
   "source": [
    "print(lr)"
   ]
  },
  {
   "cell_type": "code",
   "execution_count": 13,
   "metadata": {
    "scrolled": false
   },
   "outputs": [
    {
     "data": {
      "image/png": "[encoded data removed]",
      "text/plain": [
       "<Figure size 640x480 with 1 Axes>"
      ]
     },
     "metadata": {},
     "output_type": "display_data"
    },
    {
     "data": {
      "image/png": "[encoded data removed]",
      "text/plain": [
       "<Figure size 640x480 with 1 Axes>"
      ]
     },
     "metadata": {},
     "output_type": "display_data"
    }
   ],
   "source": [
    "plt.figure()\n",
    "plt.plot(range(len(losses)),losses,label='Loss', color='red')\n",
    "plt.plot(range(len(accuracy)),accuracy,label='Accuracy', color='blue')\n",
    "plt.xlabel('Epoch')\n",
    "plt.ylabel('Value')\n",
    "plt.legend(loc='upper left')\n",
    "plt.figure()\n",
    "plt.plot(range(len(lr)),lr,label='lr', color='green')\n",
    "plt.xlabel('Epoch')\n",
    "plt.ylabel('Value')\n",
    "plt.legend(loc='upper left')\n",
    "plt.show()\n",
    "df=np.array([accuracy,losses,lr])\n",
    "df=df.T\n",
    "df=pd.DataFrame(df,columns=[\"accuracy\",\"loss\",'lr'])\n",
    "df.to_csv(\"result.csv\")\n",
    "def save_model(net, path):\n",
    "    torch.save(net, path)\n",
    "save_model(model, \"model.pkl\")"
   ]
  },
  {
   "cell_type": "code",
   "execution_count": 14,
   "metadata": {},
   "outputs": [],
   "source": [
    "def myonetest(model, epoch):\n",
    "    model.eval().cpu()\n",
    "    correct = 0\n",
    "    onepredict=[]\n",
    "    onetarget=[]\n",
    "    for data, target in testloader:\n",
    "\n",
    "        data = data.to(torch.float32)\n",
    "\n",
    "#         apply transform and model on whole batch directly on device\n",
    "        output = model(data)\n",
    "\n",
    "        pred = get_likely_index(output)\n",
    "        correct += number_of_correct(pred, target)   \n",
    "#         update progress bar\n",
    "#         pbar.update(pbar_update)\n",
    "        pred=list(pred.squeeze().numpy())\n",
    "        target=list(target.squeeze().numpy())\n",
    "        onepredict += pred\n",
    "        onetarget+=target\n",
    "    print(f\"\\nTest Epoch: {epoch}\\tAccuracy: {correct}/{len(testloader.dataset)} ({100. * correct / len(testloader.dataset):.0f}%)\\n\")\n",
    "    return (correct/(len(testloader.dataset)),onepredict,onetarget)"
   ]
  },
  {
   "cell_type": "code",
   "execution_count": 15,
   "metadata": {
    "scrolled": false
   },
   "outputs": [
    {
     "name": "stdout",
     "output_type": "stream",
     "text": [
      "\n",
      "Test Epoch: 2\tAccuracy: 3/10 (30%)\n",
      "\n",
      "[9, 3, 1, 4, 4, 1, 0, 4, 0, 7]\n",
      "10\n",
      "[3, 9, 6, 2, 5, 2, 0, 4, 0, 6]\n",
      "[[2 0 0 0 0 0 0 0 0 0]\n",
      " [0 0 0 0 0 0 0 0 0 0]\n",
      " [0 1 0 0 1 0 0 0 0 0]\n",
      " [0 0 0 0 0 0 0 0 0 1]\n",
      " [0 0 0 0 1 0 0 0 0 0]\n",
      " [0 0 0 0 1 0 0 0 0 0]\n",
      " [0 1 0 0 0 0 0 1 0 0]\n",
      " [0 0 0 0 0 0 0 0 0 0]\n",
      " [0 0 0 0 0 0 0 0 0 0]\n",
      " [0 0 0 1 0 0 0 0 0 0]]\n",
      "[['2' '0' '0' '0' '0' '0' '0' '0' '0' '0']\n",
      " ['0' '0' '0' '0' '0' '0' '0' '0' '0' '0']\n",
      " ['0' '1' '0' '0' '1' '0' '0' '0' '0' '0']\n",
      " ['0' '0' '0' '0' '0' '0' '0' '0' '0' '1']\n",
      " ['0' '0' '0' '0' '1' '0' '0' '0' '0' '0']\n",
      " ['0' '0' '0' '0' '1' '0' '0' '0' '0' '0']\n",
      " ['0' '1' '0' '0' '0' '0' '0' '1' '0' '0']\n",
      " ['0' '0' '0' '0' '0' '0' '0' '0' '0' '0']\n",
      " ['0' '0' '0' '0' '0' '0' '0' '0' '0' '0']\n",
      " ['0' '0' '0' '1' '0' '0' '0' '0' '0' '0']]\n"
     ]
    },
    {
     "data": {
      "image/png": "[encoded data removed]",
      "text/plain": [
       "<Figure size 400x300 with 2 Axes>"
      ]
     },
     "metadata": {},
     "output_type": "display_data"
    }
   ],
   "source": [
    "def myConfusionMatrixHeatmap(y_pred,y_true):\n",
    "    import numpy\n",
    "    import seaborn as sns\n",
    "    from sklearn.metrics import confusion_matrix\n",
    "    import matplotlib.pyplot as plt\n",
    "\n",
    "    \n",
    "    sns.set({'figure.figsize': [4,3]})\n",
    "    f, ax = plt.subplots()\n",
    "#     y_true = [0, 0, 1, 2, 1, 2, 0, 2, 2, 0, 1, 1]\n",
    "#     y_pred = [1, 0, 1, 2, 1, 0, 0, 2, 2, 0, 1, 1]\n",
    "    C2 = confusion_matrix(y_true, y_pred, labels=[0, 1, 2, 3, 4, 5, 6, 7, 8, 9])\n",
    "    C2_Acc=C2/20*100\n",
    "    annot=numpy.zeros(C2.shape).astype(int).astype(str)\n",
    "    trueSum=0\n",
    "    for i in range(10):\n",
    "        trueSum+=C2[i][i];\n",
    "        for j in range(10):\n",
    "            if(C2[i][j]!=0):\n",
    "                annot[i][j]=\"{}\".format(C2[i][j])\n",
    "\n",
    "    print(C2)\n",
    "    print(annot)\n",
    "    sns.heatmap(C2, annot=annot, fmt=\"\", ax=ax, cmap=\"hot_r\")  \n",
    "\n",
    "    ax.set_title('Accuracy {:.1f}%'.format(trueSum/(dataset_len-trainset_len)*100)) \n",
    "    ax.set_xlabel('Predict label')  \n",
    "    ax.set_ylabel('True label')  \n",
    "    plt.show()\n",
    "\n",
    "_,onepredict,onetarget=myonetest(model,2)\n",
    "print(onepredict)\n",
    "print(len(onepredict))\n",
    "print(onetarget)\n",
    "myConfusionMatrixHeatmap(onepredict,onetarget)"
   ]
  },
  {
   "cell_type": "code",
   "execution_count": null,
   "metadata": {},
   "outputs": [],
   "source": []
  }
 ],
 "metadata": {
  "kernelspec": {
   "display_name": "Python 3 (ipykernel)",
   "language": "python",
   "name": "python3"
  },
  "language_info": {
   "codemirror_mode": {
    "name": "ipython",
    "version": 3
   },
   "file_extension": ".py",
   "mimetype": "text/x-python",
   "name": "python",
   "nbconvert_exporter": "python",
   "pygments_lexer": "ipython3",
   "version": "3.8.2"
  }
 },
 "nbformat": 4,
 "nbformat_minor": 2
}
